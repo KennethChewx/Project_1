{
 "cells": [
  {
   "cell_type": "markdown",
   "metadata": {
    "slideshow": {
     "slide_type": "slide"
    }
   },
   "source": [
    "# Project 1: SAT & ACT Analysis"
   ]
  },
  {
   "cell_type": "markdown",
   "metadata": {
    "slideshow": {
     "slide_type": "slide"
    }
   },
   "source": [
    "## Problem Statement\n",
    "\n",
    "The new format for the SAT was released in March 2016 and since then, we have collected data on the scores from each state in US, and their corresponding participation rates in 2017. Based on the general statistics of the said given data, a rough estimate on each state's performance and their participation rate will be used to determine how federal funding shall be allocated into each state, so as to increase the education standards of the whole country."
   ]
  },
  {
   "cell_type": "markdown",
   "metadata": {
    "slideshow": {
     "slide_type": "skip"
    }
   },
   "source": [
    "The new format for the SAT was released in March 2016 and since then, we have collected data on the scores from each state in US, and their corresponding participation rates in 2017. Based on the general statistics of the said given data, a rough estimate on each state's performance and their participation rate will be used to determine how federal funding shall be allocated into each state, so as to increase the education standards of the whole country."
   ]
  },
  {
   "cell_type": "markdown",
   "metadata": {
    "slideshow": {
     "slide_type": "slide"
    }
   },
   "source": [
    "## Executive Summary\n",
    "\n",
    "If you want to, it's great to use relative links to direct your audience to various sections of a notebook. **HERE'S A DEMONSTRATION WITH THE CURRENT SECTION HEADERS**:\n",
    "\n",
    "### Contents:\n",
    "- [2017 Data Import & Cleaning](#Data-Import-and-Cleaning)\n",
    "- [2018 Data Import and Cleaning](#2018-Data-Import-and-Cleaning)\n",
    "- [Exploratory Data Analysis](#Exploratory-Data-Analysis)\n",
    "- [Data Visualization](#Visualize-the-data)\n",
    "- [Descriptive and Inferential Statistics](#Descriptive-and-Inferential-Statistics)\n",
    "- [Outside Research](#Outside-Research)\n",
    "- [Conclusions and Recommendations](#Conclusions-and-Recommendations)"
   ]
  },
  {
   "cell_type": "markdown",
   "metadata": {
    "slideshow": {
     "slide_type": "skip"
    }
   },
   "source": [
    "**If you combine your problem statement, executive summary, data dictionary, and conclusions/recommendations, you have an amazing README.md file that quickly aligns your audience to the contents of your project.** Don't forget to cite your data sources!"
   ]
  },
  {
   "cell_type": "markdown",
   "metadata": {
    "slideshow": {
     "slide_type": "skip"
    }
   },
   "source": [
    "*All libraries used should be added here*"
   ]
  },
  {
   "cell_type": "code",
   "execution_count": 1,
   "metadata": {
    "slideshow": {
     "slide_type": "slide"
    }
   },
   "outputs": [],
   "source": [
    "#Imports:\n",
    "import pandas as pd\n",
    "import matplotlib.pyplot as plt\n",
    "import numpy as np\n",
    "import seaborn as sns\n",
    "\n",
    "%matplotlib inline"
   ]
  },
  {
   "cell_type": "markdown",
   "metadata": {
    "slideshow": {
     "slide_type": "slide"
    }
   },
   "source": [
    "## 2017 Data Import and Cleaning\n",
    "\n",
    "#### 1. Read In SAT & ACT  Data\n",
    "\n",
    "Read in the `sat_2017.csv` and `act_2017.csv` files and assign them to appropriately named pandas dataframes."
   ]
  },
  {
   "cell_type": "markdown",
   "metadata": {
    "slideshow": {
     "slide_type": "skip"
    }
   },
   "source": [
    "#### 1. Read In SAT & ACT  Data\n",
    "\n",
    "Read in the `sat_2017.csv` and `act_2017.csv` files and assign them to appropriately named pandas dataframes."
   ]
  },
  {
   "cell_type": "code",
   "execution_count": 2,
   "metadata": {
    "slideshow": {
     "slide_type": "slide"
    }
   },
   "outputs": [],
   "source": [
    "#Code:\n",
    "sat_df = pd.read_csv('../data/sat_2017.csv')\n",
    "act_df = pd.read_csv('../data/act_2017.csv')"
   ]
  },
  {
   "cell_type": "markdown",
   "metadata": {
    "slideshow": {
     "slide_type": "slide"
    }
   },
   "source": [
    "#### 2. Display Data\n",
    "\n",
    "Print the first 10 rows of each dataframe to your jupyter notebook"
   ]
  },
  {
   "cell_type": "code",
   "execution_count": 3,
   "metadata": {
    "slideshow": {
     "slide_type": "slide"
    }
   },
   "outputs": [
    {
     "data": {
      "text/html": [
       "<div>\n",
       "<style scoped>\n",
       "    .dataframe tbody tr th:only-of-type {\n",
       "        vertical-align: middle;\n",
       "    }\n",
       "\n",
       "    .dataframe tbody tr th {\n",
       "        vertical-align: top;\n",
       "    }\n",
       "\n",
       "    .dataframe thead th {\n",
       "        text-align: right;\n",
       "    }\n",
       "</style>\n",
       "<table border=\"1\" class=\"dataframe\">\n",
       "  <thead>\n",
       "    <tr style=\"text-align: right;\">\n",
       "      <th></th>\n",
       "      <th>State</th>\n",
       "      <th>Participation</th>\n",
       "      <th>Evidence-Based Reading and Writing</th>\n",
       "      <th>Math</th>\n",
       "      <th>Total</th>\n",
       "    </tr>\n",
       "  </thead>\n",
       "  <tbody>\n",
       "    <tr>\n",
       "      <th>0</th>\n",
       "      <td>Alabama</td>\n",
       "      <td>5%</td>\n",
       "      <td>593</td>\n",
       "      <td>572</td>\n",
       "      <td>1165</td>\n",
       "    </tr>\n",
       "    <tr>\n",
       "      <th>1</th>\n",
       "      <td>Alaska</td>\n",
       "      <td>38%</td>\n",
       "      <td>547</td>\n",
       "      <td>533</td>\n",
       "      <td>1080</td>\n",
       "    </tr>\n",
       "    <tr>\n",
       "      <th>2</th>\n",
       "      <td>Arizona</td>\n",
       "      <td>30%</td>\n",
       "      <td>563</td>\n",
       "      <td>553</td>\n",
       "      <td>1116</td>\n",
       "    </tr>\n",
       "    <tr>\n",
       "      <th>3</th>\n",
       "      <td>Arkansas</td>\n",
       "      <td>3%</td>\n",
       "      <td>614</td>\n",
       "      <td>594</td>\n",
       "      <td>1208</td>\n",
       "    </tr>\n",
       "    <tr>\n",
       "      <th>4</th>\n",
       "      <td>California</td>\n",
       "      <td>53%</td>\n",
       "      <td>531</td>\n",
       "      <td>524</td>\n",
       "      <td>1055</td>\n",
       "    </tr>\n",
       "    <tr>\n",
       "      <th>5</th>\n",
       "      <td>Colorado</td>\n",
       "      <td>11%</td>\n",
       "      <td>606</td>\n",
       "      <td>595</td>\n",
       "      <td>1201</td>\n",
       "    </tr>\n",
       "    <tr>\n",
       "      <th>6</th>\n",
       "      <td>Connecticut</td>\n",
       "      <td>100%</td>\n",
       "      <td>530</td>\n",
       "      <td>512</td>\n",
       "      <td>1041</td>\n",
       "    </tr>\n",
       "    <tr>\n",
       "      <th>7</th>\n",
       "      <td>Delaware</td>\n",
       "      <td>100%</td>\n",
       "      <td>503</td>\n",
       "      <td>492</td>\n",
       "      <td>996</td>\n",
       "    </tr>\n",
       "    <tr>\n",
       "      <th>8</th>\n",
       "      <td>District of Columbia</td>\n",
       "      <td>100%</td>\n",
       "      <td>482</td>\n",
       "      <td>468</td>\n",
       "      <td>950</td>\n",
       "    </tr>\n",
       "    <tr>\n",
       "      <th>9</th>\n",
       "      <td>Florida</td>\n",
       "      <td>83%</td>\n",
       "      <td>520</td>\n",
       "      <td>497</td>\n",
       "      <td>1017</td>\n",
       "    </tr>\n",
       "  </tbody>\n",
       "</table>\n",
       "</div>"
      ],
      "text/plain": [
       "                  State Participation  Evidence-Based Reading and Writing  \\\n",
       "0               Alabama            5%                                 593   \n",
       "1                Alaska           38%                                 547   \n",
       "2               Arizona           30%                                 563   \n",
       "3              Arkansas            3%                                 614   \n",
       "4            California           53%                                 531   \n",
       "5              Colorado           11%                                 606   \n",
       "6           Connecticut          100%                                 530   \n",
       "7              Delaware          100%                                 503   \n",
       "8  District of Columbia          100%                                 482   \n",
       "9               Florida           83%                                 520   \n",
       "\n",
       "   Math  Total  \n",
       "0   572   1165  \n",
       "1   533   1080  \n",
       "2   553   1116  \n",
       "3   594   1208  \n",
       "4   524   1055  \n",
       "5   595   1201  \n",
       "6   512   1041  \n",
       "7   492    996  \n",
       "8   468    950  \n",
       "9   497   1017  "
      ]
     },
     "execution_count": 3,
     "metadata": {},
     "output_type": "execute_result"
    }
   ],
   "source": [
    "#Code:\n",
    "sat_df.head(10)"
   ]
  },
  {
   "cell_type": "code",
   "execution_count": 16,
   "metadata": {
    "slideshow": {
     "slide_type": "slide"
    }
   },
   "outputs": [
    {
     "data": {
      "text/html": [
       "<div>\n",
       "<style scoped>\n",
       "    .dataframe tbody tr th:only-of-type {\n",
       "        vertical-align: middle;\n",
       "    }\n",
       "\n",
       "    .dataframe tbody tr th {\n",
       "        vertical-align: top;\n",
       "    }\n",
       "\n",
       "    .dataframe thead th {\n",
       "        text-align: right;\n",
       "    }\n",
       "</style>\n",
       "<table border=\"1\" class=\"dataframe\">\n",
       "  <thead>\n",
       "    <tr style=\"text-align: right;\">\n",
       "      <th></th>\n",
       "      <th>State</th>\n",
       "      <th>Participation</th>\n",
       "      <th>English</th>\n",
       "      <th>Math</th>\n",
       "      <th>Reading</th>\n",
       "      <th>Science</th>\n",
       "      <th>Composite</th>\n",
       "    </tr>\n",
       "  </thead>\n",
       "  <tbody>\n",
       "    <tr>\n",
       "      <th>0</th>\n",
       "      <td>National</td>\n",
       "      <td>60%</td>\n",
       "      <td>20.3</td>\n",
       "      <td>20.7</td>\n",
       "      <td>21.4</td>\n",
       "      <td>21.0</td>\n",
       "      <td>21.0</td>\n",
       "    </tr>\n",
       "    <tr>\n",
       "      <th>1</th>\n",
       "      <td>Alabama</td>\n",
       "      <td>100%</td>\n",
       "      <td>18.9</td>\n",
       "      <td>18.4</td>\n",
       "      <td>19.7</td>\n",
       "      <td>19.4</td>\n",
       "      <td>19.2</td>\n",
       "    </tr>\n",
       "    <tr>\n",
       "      <th>2</th>\n",
       "      <td>Alaska</td>\n",
       "      <td>65%</td>\n",
       "      <td>18.7</td>\n",
       "      <td>19.8</td>\n",
       "      <td>20.4</td>\n",
       "      <td>19.9</td>\n",
       "      <td>19.8</td>\n",
       "    </tr>\n",
       "    <tr>\n",
       "      <th>3</th>\n",
       "      <td>Arizona</td>\n",
       "      <td>62%</td>\n",
       "      <td>18.6</td>\n",
       "      <td>19.8</td>\n",
       "      <td>20.1</td>\n",
       "      <td>19.8</td>\n",
       "      <td>19.7</td>\n",
       "    </tr>\n",
       "    <tr>\n",
       "      <th>4</th>\n",
       "      <td>Arkansas</td>\n",
       "      <td>100%</td>\n",
       "      <td>18.9</td>\n",
       "      <td>19.0</td>\n",
       "      <td>19.7</td>\n",
       "      <td>19.5</td>\n",
       "      <td>19.4</td>\n",
       "    </tr>\n",
       "    <tr>\n",
       "      <th>5</th>\n",
       "      <td>California</td>\n",
       "      <td>31%</td>\n",
       "      <td>22.5</td>\n",
       "      <td>22.7</td>\n",
       "      <td>23.1</td>\n",
       "      <td>22.2</td>\n",
       "      <td>22.8</td>\n",
       "    </tr>\n",
       "    <tr>\n",
       "      <th>6</th>\n",
       "      <td>Colorado</td>\n",
       "      <td>100%</td>\n",
       "      <td>20.1</td>\n",
       "      <td>20.3</td>\n",
       "      <td>21.2</td>\n",
       "      <td>20.9</td>\n",
       "      <td>20.8</td>\n",
       "    </tr>\n",
       "    <tr>\n",
       "      <th>7</th>\n",
       "      <td>Connecticut</td>\n",
       "      <td>31%</td>\n",
       "      <td>25.5</td>\n",
       "      <td>24.6</td>\n",
       "      <td>25.6</td>\n",
       "      <td>24.6</td>\n",
       "      <td>25.2</td>\n",
       "    </tr>\n",
       "    <tr>\n",
       "      <th>8</th>\n",
       "      <td>Delaware</td>\n",
       "      <td>18%</td>\n",
       "      <td>24.1</td>\n",
       "      <td>23.4</td>\n",
       "      <td>24.8</td>\n",
       "      <td>23.6</td>\n",
       "      <td>24.1</td>\n",
       "    </tr>\n",
       "    <tr>\n",
       "      <th>9</th>\n",
       "      <td>District of Columbia</td>\n",
       "      <td>32%</td>\n",
       "      <td>24.4</td>\n",
       "      <td>23.5</td>\n",
       "      <td>24.9</td>\n",
       "      <td>23.5</td>\n",
       "      <td>24.2</td>\n",
       "    </tr>\n",
       "  </tbody>\n",
       "</table>\n",
       "</div>"
      ],
      "text/plain": [
       "                  State Participation  English  Math  Reading  Science  \\\n",
       "0              National           60%     20.3  20.7     21.4     21.0   \n",
       "1               Alabama          100%     18.9  18.4     19.7     19.4   \n",
       "2                Alaska           65%     18.7  19.8     20.4     19.9   \n",
       "3               Arizona           62%     18.6  19.8     20.1     19.8   \n",
       "4              Arkansas          100%     18.9  19.0     19.7     19.5   \n",
       "5            California           31%     22.5  22.7     23.1     22.2   \n",
       "6              Colorado          100%     20.1  20.3     21.2     20.9   \n",
       "7           Connecticut           31%     25.5  24.6     25.6     24.6   \n",
       "8              Delaware           18%     24.1  23.4     24.8     23.6   \n",
       "9  District of Columbia           32%     24.4  23.5     24.9     23.5   \n",
       "\n",
       "  Composite  \n",
       "0      21.0  \n",
       "1      19.2  \n",
       "2      19.8  \n",
       "3      19.7  \n",
       "4      19.4  \n",
       "5      22.8  \n",
       "6      20.8  \n",
       "7      25.2  \n",
       "8      24.1  \n",
       "9      24.2  "
      ]
     },
     "execution_count": 16,
     "metadata": {},
     "output_type": "execute_result"
    }
   ],
   "source": [
    "act_df.head(10)"
   ]
  },
  {
   "cell_type": "markdown",
   "metadata": {
    "slideshow": {
     "slide_type": "slide"
    }
   },
   "source": [
    "#### 3. Verbally Describe Data\n",
    "\n",
    "Take your time looking through the data and thoroughly describe the data in the markdown cell below. "
   ]
  },
  {
   "cell_type": "markdown",
   "metadata": {
    "slideshow": {
     "slide_type": "slide"
    }
   },
   "source": [
    "Answer:\n",
    "\n",
    "### ACT dataset:\n",
    "---\n",
    "For the ACT dataset, it is observed that there is an extra row within the dataset (National results). Upon inspection with a box plot, there is also an outlier within the science column. This has caused the skewness of the science to be extremely negative (-4.136).\n",
    "\n",
    "Upon checking the datatypes of each labels too, the label of composite is specified as object, signifying that there might be a mix of integers and strings within the dataset. After inspection, it is found that for label composite, the last row has the integer mixed with a string 'x'. Furthermore, the data type of participation is not in float, and thus unable to be plotted.\n",
    "\n",
    "\n",
    "### SAT dataset:\n",
    "---\n",
    "For the SAT dataset, the boxplot for Math, there also exist an outlier which is detected. The skewness due to this outlier, is therefore negatively skewed by -3.971.\n",
    "\n",
    "Similarly, the participation column for SAT data is not in the proper data type of float (currently as object)."
   ]
  },
  {
   "cell_type": "code",
   "execution_count": 3,
   "metadata": {
    "slideshow": {
     "slide_type": "slide"
    }
   },
   "outputs": [
    {
     "data": {
      "text/plain": [
       "<matplotlib.axes._subplots.AxesSubplot at 0x2fc70e4a58>"
      ]
     },
     "execution_count": 3,
     "metadata": {},
     "output_type": "execute_result"
    },
    {
     "data": {
      "image/png": "[encoded data removed]",
      "text/plain": [
       "<Figure size 432x288 with 1 Axes>"
      ]
     },
     "metadata": {
      "needs_background": "light"
     },
     "output_type": "display_data"
    }
   ],
   "source": [
    "sat_df.plot.box()"
   ]
  },
  {
   "cell_type": "code",
   "execution_count": 6,
   "metadata": {
    "slideshow": {
     "slide_type": "slide"
    }
   },
   "outputs": [
    {
     "data": {
      "text/plain": [
       "English    0.370977\n",
       "Math       0.349583\n",
       "Reading    0.288556\n",
       "Science   -4.136275\n",
       "dtype: float64"
      ]
     },
     "execution_count": 6,
     "metadata": {},
     "output_type": "execute_result"
    }
   ],
   "source": [
    "act_df.skew()"
   ]
  },
  {
   "cell_type": "code",
   "execution_count": 7,
   "metadata": {
    "slideshow": {
     "slide_type": "slide"
    }
   },
   "outputs": [
    {
     "data": {
      "text/plain": [
       "State                                 object\n",
       "Participation                         object\n",
       "Evidence-Based Reading and Writing     int64\n",
       "Math                                   int64\n",
       "Total                                  int64\n",
       "dtype: object"
      ]
     },
     "execution_count": 7,
     "metadata": {},
     "output_type": "execute_result"
    }
   ],
   "source": [
    "sat_df.dtypes"
   ]
  },
  {
   "cell_type": "markdown",
   "metadata": {
    "slideshow": {
     "slide_type": "slide"
    }
   },
   "source": [
    "#### 4a. Does the data look complete? "
   ]
  },
  {
   "cell_type": "markdown",
   "metadata": {
    "slideshow": {
     "slide_type": "slide"
    }
   },
   "source": [
    "Answer: \n",
    "\n",
    "It can be observed that for both datasets, the number of counts for each of the subjects are all equal, thus there are no missing data. Furthermore, checking with code act_df.isnull().values.any() and sat_df.isnull().values.any() retuned False for both dataset. Thus, ensuring tat all fields are indeed filled up with a unique object.\n",
    "\n",
    "However, erroneous data could still be found inside the dataset."
   ]
  },
  {
   "cell_type": "code",
   "execution_count": 4,
   "metadata": {
    "slideshow": {
     "slide_type": "slide"
    }
   },
   "outputs": [
    {
     "data": {
      "text/plain": [
       "State            0\n",
       "Participation    0\n",
       "English          0\n",
       "Math             0\n",
       "Reading          0\n",
       "Science          0\n",
       "Composite        0\n",
       "dtype: int64"
      ]
     },
     "execution_count": 4,
     "metadata": {},
     "output_type": "execute_result"
    }
   ],
   "source": [
    "act_df.isnull().sum()"
   ]
  },
  {
   "cell_type": "code",
   "execution_count": 9,
   "metadata": {
    "slideshow": {
     "slide_type": "slide"
    }
   },
   "outputs": [
    {
     "name": "stdout",
     "output_type": "stream",
     "text": [
      "<class 'pandas.core.frame.DataFrame'>\n",
      "RangeIndex: 51 entries, 0 to 50\n",
      "Data columns (total 5 columns):\n",
      "State                                 51 non-null object\n",
      "Participation                         51 non-null object\n",
      "Evidence-Based Reading and Writing    51 non-null int64\n",
      "Math                                  51 non-null int64\n",
      "Total                                 51 non-null int64\n",
      "dtypes: int64(3), object(2)\n",
      "memory usage: 2.1+ KB\n"
     ]
    }
   ],
   "source": [
    "sat_df.info()"
   ]
  },
  {
   "cell_type": "code",
   "execution_count": 10,
   "metadata": {
    "slideshow": {
     "slide_type": "slide"
    }
   },
   "outputs": [
    {
     "name": "stdout",
     "output_type": "stream",
     "text": [
      "<class 'pandas.core.frame.DataFrame'>\n",
      "RangeIndex: 52 entries, 0 to 51\n",
      "Data columns (total 7 columns):\n",
      "State            52 non-null object\n",
      "Participation    52 non-null object\n",
      "English          52 non-null float64\n",
      "Math             52 non-null float64\n",
      "Reading          52 non-null float64\n",
      "Science          52 non-null float64\n",
      "Composite        52 non-null object\n",
      "dtypes: float64(4), object(3)\n",
      "memory usage: 2.9+ KB\n"
     ]
    }
   ],
   "source": [
    "act_df.info()"
   ]
  },
  {
   "cell_type": "markdown",
   "metadata": {
    "slideshow": {
     "slide_type": "slide"
    }
   },
   "source": [
    "#### 4b. Are there any obvious issues with the observations?\n",
    "\n",
    "**What is the minimum *possible* value for each test/subtest? What is the maximum *possible* value?**\n",
    "\n",
    "Consider comparing any questionable values to the sources of your data:\n",
    "- [SAT](https://blog.collegevine.com/here-are-the-average-sat-scores-by-state/)\n",
    "- [ACT](https://blog.prepscholar.com/act-scores-by-state-averages-highs-and-lows)"
   ]
  },
  {
   "cell_type": "markdown",
   "metadata": {
    "slideshow": {
     "slide_type": "slide"
    }
   },
   "source": [
    "Answer: \n",
    "\n",
    "For SAT sections in ERW and Math, the minimum possible value is 200 while the maximum possible value is 800. In sum, the total scores minimum is 400 and maximum is 1600.\n",
    "\n",
    "For ACT sections, the minimum possible is 1, while the maximum possible is 36 for all sections, including the composite scores."
   ]
  },
  {
   "cell_type": "markdown",
   "metadata": {
    "slideshow": {
     "slide_type": "slide"
    }
   },
   "source": [
    "\n",
    "#### 4c. Fix any errors you identified\n",
    "\n",
    "**The data is available** so there's no need to guess or calculate anything. If you didn't find any errors, continue to the next step."
   ]
  },
  {
   "cell_type": "markdown",
   "metadata": {
    "slideshow": {
     "slide_type": "slide"
    }
   },
   "source": [
    "Based on the maximum and minimum possible values of SAT and ACT, it can be seen that there are outliers in the SAT math score (score of 52), which is outside of the possibility of 200. This can be fixed however, by using the total scores minusing the ERW scores to get the math score.\n",
    "\n",
    "Furthermore, several of the scores do not tally, as ERW + math does not equal to total. Many of them are off by a little. Thus, after correcting for the outlier math score, the new total score can be tallied through addition from ERW and new math\n",
    "\n",
    "As for the outlier in ACT science section, the score if 2.3 is well below the mean, it still falls under the range of possible scores, but as compared to the original dataset, this data is wrong."
   ]
  },
  {
   "cell_type": "code",
   "execution_count": 3,
   "metadata": {
    "scrolled": true,
    "slideshow": {
     "slide_type": "slide"
    }
   },
   "outputs": [],
   "source": [
    "sat_df.loc[20,'Math'] = 524\n",
    "act_df.loc[21,'Science'] = 23.2\n",
    "sat_df[\"New Total\"] = sat_df['Math']+sat_df['Evidence-Based Reading and Writing']\n",
    "sat_df.drop(columns = 'Total',inplace=True)\n"
   ]
  },
  {
   "cell_type": "code",
   "execution_count": 11,
   "metadata": {
    "slideshow": {
     "slide_type": "slide"
    }
   },
   "outputs": [
    {
     "data": {
      "text/html": [
       "<div>\n",
       "<style scoped>\n",
       "    .dataframe tbody tr th:only-of-type {\n",
       "        vertical-align: middle;\n",
       "    }\n",
       "\n",
       "    .dataframe tbody tr th {\n",
       "        vertical-align: top;\n",
       "    }\n",
       "\n",
       "    .dataframe thead th {\n",
       "        text-align: right;\n",
       "    }\n",
       "</style>\n",
       "<table border=\"1\" class=\"dataframe\">\n",
       "  <thead>\n",
       "    <tr style=\"text-align: right;\">\n",
       "      <th></th>\n",
       "      <th>State</th>\n",
       "      <th>Participation</th>\n",
       "      <th>Evidence-Based Reading and Writing</th>\n",
       "      <th>Math</th>\n",
       "      <th>New Total</th>\n",
       "    </tr>\n",
       "  </thead>\n",
       "  <tbody>\n",
       "    <tr>\n",
       "      <th>0</th>\n",
       "      <td>Alabama</td>\n",
       "      <td>5%</td>\n",
       "      <td>593</td>\n",
       "      <td>572</td>\n",
       "      <td>1165</td>\n",
       "    </tr>\n",
       "    <tr>\n",
       "      <th>1</th>\n",
       "      <td>Alaska</td>\n",
       "      <td>38%</td>\n",
       "      <td>547</td>\n",
       "      <td>533</td>\n",
       "      <td>1080</td>\n",
       "    </tr>\n",
       "    <tr>\n",
       "      <th>2</th>\n",
       "      <td>Arizona</td>\n",
       "      <td>30%</td>\n",
       "      <td>563</td>\n",
       "      <td>553</td>\n",
       "      <td>1116</td>\n",
       "    </tr>\n",
       "    <tr>\n",
       "      <th>3</th>\n",
       "      <td>Arkansas</td>\n",
       "      <td>3%</td>\n",
       "      <td>614</td>\n",
       "      <td>594</td>\n",
       "      <td>1208</td>\n",
       "    </tr>\n",
       "    <tr>\n",
       "      <th>4</th>\n",
       "      <td>California</td>\n",
       "      <td>53%</td>\n",
       "      <td>531</td>\n",
       "      <td>524</td>\n",
       "      <td>1055</td>\n",
       "    </tr>\n",
       "    <tr>\n",
       "      <th>5</th>\n",
       "      <td>Colorado</td>\n",
       "      <td>11%</td>\n",
       "      <td>606</td>\n",
       "      <td>595</td>\n",
       "      <td>1201</td>\n",
       "    </tr>\n",
       "    <tr>\n",
       "      <th>6</th>\n",
       "      <td>Connecticut</td>\n",
       "      <td>100%</td>\n",
       "      <td>530</td>\n",
       "      <td>512</td>\n",
       "      <td>1042</td>\n",
       "    </tr>\n",
       "    <tr>\n",
       "      <th>7</th>\n",
       "      <td>Delaware</td>\n",
       "      <td>100%</td>\n",
       "      <td>503</td>\n",
       "      <td>492</td>\n",
       "      <td>995</td>\n",
       "    </tr>\n",
       "    <tr>\n",
       "      <th>8</th>\n",
       "      <td>District of Columbia</td>\n",
       "      <td>100%</td>\n",
       "      <td>482</td>\n",
       "      <td>468</td>\n",
       "      <td>950</td>\n",
       "    </tr>\n",
       "    <tr>\n",
       "      <th>9</th>\n",
       "      <td>Florida</td>\n",
       "      <td>83%</td>\n",
       "      <td>520</td>\n",
       "      <td>497</td>\n",
       "      <td>1017</td>\n",
       "    </tr>\n",
       "  </tbody>\n",
       "</table>\n",
       "</div>"
      ],
      "text/plain": [
       "                  State Participation  Evidence-Based Reading and Writing  \\\n",
       "0               Alabama            5%                                 593   \n",
       "1                Alaska           38%                                 547   \n",
       "2               Arizona           30%                                 563   \n",
       "3              Arkansas            3%                                 614   \n",
       "4            California           53%                                 531   \n",
       "5              Colorado           11%                                 606   \n",
       "6           Connecticut          100%                                 530   \n",
       "7              Delaware          100%                                 503   \n",
       "8  District of Columbia          100%                                 482   \n",
       "9               Florida           83%                                 520   \n",
       "\n",
       "   Math  New Total  \n",
       "0   572       1165  \n",
       "1   533       1080  \n",
       "2   553       1116  \n",
       "3   594       1208  \n",
       "4   524       1055  \n",
       "5   595       1201  \n",
       "6   512       1042  \n",
       "7   492        995  \n",
       "8   468        950  \n",
       "9   497       1017  "
      ]
     },
     "execution_count": 11,
     "metadata": {},
     "output_type": "execute_result"
    }
   ],
   "source": [
    "sat_df.head(10)"
   ]
  },
  {
   "cell_type": "markdown",
   "metadata": {
    "slideshow": {
     "slide_type": "slide"
    }
   },
   "source": [
    "#### 5. What are your data types? \n",
    "Display the data types of each feature. "
   ]
  },
  {
   "cell_type": "code",
   "execution_count": 13,
   "metadata": {
    "slideshow": {
     "slide_type": "slide"
    }
   },
   "outputs": [
    {
     "name": "stdout",
     "output_type": "stream",
     "text": [
      "State                                 object\n",
      "Participation                         object\n",
      "Evidence-Based Reading and Writing     int64\n",
      "Math                                   int64\n",
      "New Total                              int64\n",
      "dtype: object\n",
      "\n",
      "State             object\n",
      "Participation     object\n",
      "English          float64\n",
      "Math             float64\n",
      "Reading          float64\n",
      "Science          float64\n",
      "Composite         object\n",
      "dtype: object\n"
     ]
    }
   ],
   "source": [
    "#code\n",
    "print(sat_df.dtypes)\n",
    "print('')\n",
    "print(act_df.dtypes)"
   ]
  },
  {
   "cell_type": "markdown",
   "metadata": {
    "slideshow": {
     "slide_type": "slide"
    }
   },
   "source": [
    "What did you learn?\n",
    "- Do any of them seem odd?  \n",
    "- Which ones are not as they should be?  "
   ]
  },
  {
   "cell_type": "markdown",
   "metadata": {
    "slideshow": {
     "slide_type": "slide"
    }
   },
   "source": [
    "Answer:<br>\n",
    "1) The dtype of composite in the act_df data is an object instead of float, as it is still a float score. <br>\n",
    "2) For both participation columns in SAT and ACT dataset, the data type is objects instead of float. <br>\n",
    "3) For both datasets, the state is in object instead of a string"
   ]
  },
  {
   "cell_type": "markdown",
   "metadata": {
    "slideshow": {
     "slide_type": "slide"
    }
   },
   "source": [
    "#### 6. Fix Incorrect Data Types\n",
    "Based on what you discovered above, use appropriate methods to re-type incorrectly typed data.\n",
    "- Define a function that will allow you to convert participation rates to an appropriate numeric type. Use `map` or `apply` to change these columns in each dataframe."
   ]
  },
  {
   "cell_type": "code",
   "execution_count": 4,
   "metadata": {
    "slideshow": {
     "slide_type": "slide"
    }
   },
   "outputs": [],
   "source": [
    "#code\n",
    "def p2f(x):\n",
    "    return x.str.replace('%','').astype(float)/100"
   ]
  },
  {
   "cell_type": "code",
   "execution_count": 5,
   "metadata": {
    "slideshow": {
     "slide_type": "slide"
    }
   },
   "outputs": [],
   "source": [
    "sat_df['Participation'] = p2f(sat_df['Participation'])\n",
    "act_df['Participation'] = p2f(act_df['Participation'])"
   ]
  },
  {
   "cell_type": "markdown",
   "metadata": {
    "slideshow": {
     "slide_type": "slide"
    }
   },
   "source": [
    "- Fix any individual values preventing other columns from being the appropriate type."
   ]
  },
  {
   "cell_type": "code",
   "execution_count": 6,
   "metadata": {
    "slideshow": {
     "slide_type": "slide"
    }
   },
   "outputs": [],
   "source": [
    "#code\n",
    "act_df['Composite'] = act_df['Composite'].str.replace('x', '')"
   ]
  },
  {
   "cell_type": "code",
   "execution_count": 7,
   "metadata": {
    "slideshow": {
     "slide_type": "slide"
    }
   },
   "outputs": [
    {
     "data": {
      "text/plain": [
       "False"
      ]
     },
     "execution_count": 7,
     "metadata": {},
     "output_type": "execute_result"
    }
   ],
   "source": [
    "#code\n",
    "any(i.isalpha() for i in act_df['Composite'])  #Does not contain any characters\n"
   ]
  },
  {
   "cell_type": "markdown",
   "metadata": {
    "slideshow": {
     "slide_type": "slide"
    }
   },
   "source": [
    "- Finish your data modifications by making sure the columns are now typed appropriately."
   ]
  },
  {
   "cell_type": "code",
   "execution_count": 8,
   "metadata": {
    "slideshow": {
     "slide_type": "slide"
    }
   },
   "outputs": [],
   "source": [
    "act_df['Composite'] = act_df['Composite'].astype(float)"
   ]
  },
  {
   "cell_type": "markdown",
   "metadata": {
    "slideshow": {
     "slide_type": "slide"
    }
   },
   "source": [
    "- Display the data types again to confirm they are correct."
   ]
  },
  {
   "cell_type": "code",
   "execution_count": 20,
   "metadata": {
    "slideshow": {
     "slide_type": "slide"
    }
   },
   "outputs": [
    {
     "name": "stdout",
     "output_type": "stream",
     "text": [
      "State                                  object\n",
      "Participation                         float64\n",
      "Evidence-Based Reading and Writing      int64\n",
      "Math                                    int64\n",
      "New Total                               int64\n",
      "dtype: object\n",
      "\n",
      "State             object\n",
      "Participation    float64\n",
      "English          float64\n",
      "Math             float64\n",
      "Reading          float64\n",
      "Science          float64\n",
      "Composite        float64\n",
      "dtype: object\n"
     ]
    }
   ],
   "source": [
    "#Code:\n",
    "print(sat_df.dtypes)\n",
    "print('')\n",
    "print(act_df.dtypes)"
   ]
  },
  {
   "cell_type": "markdown",
   "metadata": {
    "slideshow": {
     "slide_type": "slide"
    }
   },
   "source": [
    "#### 7. Rename Columns\n",
    "Change the names of the columns to more expressive names so that you can tell the difference the SAT columns and the ACT columns. Your solution should map all column names being changed at once (no repeated singular name-changes). **We will be combining these data with some of the data from 2018, and so you should name columns in an appropriate way**.\n",
    "\n",
    "**Guidelines**:\n",
    "- Column names should be all lowercase (you will thank yourself when you start pushing data to SQL later in the course)\n",
    "- Column names should not contain spaces (underscores will suffice--this allows for using the `df.column_name` method to access columns in addition to `df['column_name']`.\n",
    "- Column names should be unique and informative (the only feature that we actually share between dataframes is the state)."
   ]
  },
  {
   "cell_type": "code",
   "execution_count": 9,
   "metadata": {
    "slideshow": {
     "slide_type": "slide"
    }
   },
   "outputs": [],
   "source": [
    "#code\n",
    "sat17_df = sat_df.rename(columns={'Participation':'sat_17_participation',\n",
    "                       'Evidence-Based Reading and Writing':'sat_17_erw',\n",
    "                       'Math':'sat_17_math',\n",
    "                      'New Total':'sat_17_total'})\n",
    "act17_df = act_df.rename(columns={'Participation':'act_17_participation',\n",
    "                       'English':'act_17_english',\n",
    "                       'Math':'act_17_math',\n",
    "                      'Reading':'act_17_reading',\n",
    "                      'Science':'act_17_science',\n",
    "                      'Composite':'act_17_composite'})"
   ]
  },
  {
   "cell_type": "code",
   "execution_count": 19,
   "metadata": {
    "scrolled": true,
    "slideshow": {
     "slide_type": "slide"
    }
   },
   "outputs": [
    {
     "data": {
      "text/html": [
       "<div>\n",
       "<style scoped>\n",
       "    .dataframe tbody tr th:only-of-type {\n",
       "        vertical-align: middle;\n",
       "    }\n",
       "\n",
       "    .dataframe tbody tr th {\n",
       "        vertical-align: top;\n",
       "    }\n",
       "\n",
       "    .dataframe thead th {\n",
       "        text-align: right;\n",
       "    }\n",
       "</style>\n",
       "<table border=\"1\" class=\"dataframe\">\n",
       "  <thead>\n",
       "    <tr style=\"text-align: right;\">\n",
       "      <th></th>\n",
       "      <th>State</th>\n",
       "      <th>act_17_participation</th>\n",
       "      <th>act_17_english</th>\n",
       "      <th>act_17_math</th>\n",
       "      <th>act_17_reading</th>\n",
       "      <th>act_17_science</th>\n",
       "      <th>act_17_composite</th>\n",
       "    </tr>\n",
       "  </thead>\n",
       "  <tbody>\n",
       "    <tr>\n",
       "      <th>0</th>\n",
       "      <td>National</td>\n",
       "      <td>60%</td>\n",
       "      <td>20.3</td>\n",
       "      <td>20.7</td>\n",
       "      <td>21.4</td>\n",
       "      <td>21.0</td>\n",
       "      <td>21.0</td>\n",
       "    </tr>\n",
       "    <tr>\n",
       "      <th>1</th>\n",
       "      <td>Alabama</td>\n",
       "      <td>100%</td>\n",
       "      <td>18.9</td>\n",
       "      <td>18.4</td>\n",
       "      <td>19.7</td>\n",
       "      <td>19.4</td>\n",
       "      <td>19.2</td>\n",
       "    </tr>\n",
       "    <tr>\n",
       "      <th>2</th>\n",
       "      <td>Alaska</td>\n",
       "      <td>65%</td>\n",
       "      <td>18.7</td>\n",
       "      <td>19.8</td>\n",
       "      <td>20.4</td>\n",
       "      <td>19.9</td>\n",
       "      <td>19.8</td>\n",
       "    </tr>\n",
       "    <tr>\n",
       "      <th>3</th>\n",
       "      <td>Arizona</td>\n",
       "      <td>62%</td>\n",
       "      <td>18.6</td>\n",
       "      <td>19.8</td>\n",
       "      <td>20.1</td>\n",
       "      <td>19.8</td>\n",
       "      <td>19.7</td>\n",
       "    </tr>\n",
       "    <tr>\n",
       "      <th>4</th>\n",
       "      <td>Arkansas</td>\n",
       "      <td>100%</td>\n",
       "      <td>18.9</td>\n",
       "      <td>19.0</td>\n",
       "      <td>19.7</td>\n",
       "      <td>19.5</td>\n",
       "      <td>19.4</td>\n",
       "    </tr>\n",
       "  </tbody>\n",
       "</table>\n",
       "</div>"
      ],
      "text/plain": [
       "      State act_17_participation  act_17_english  act_17_math  act_17_reading  \\\n",
       "0  National                  60%            20.3         20.7            21.4   \n",
       "1   Alabama                 100%            18.9         18.4            19.7   \n",
       "2    Alaska                  65%            18.7         19.8            20.4   \n",
       "3   Arizona                  62%            18.6         19.8            20.1   \n",
       "4  Arkansas                 100%            18.9         19.0            19.7   \n",
       "\n",
       "   act_17_science act_17_composite  \n",
       "0            21.0             21.0  \n",
       "1            19.4             19.2  \n",
       "2            19.9             19.8  \n",
       "3            19.8             19.7  \n",
       "4            19.5             19.4  "
      ]
     },
     "execution_count": 19,
     "metadata": {},
     "output_type": "execute_result"
    }
   ],
   "source": [
    "act17_df.head()"
   ]
  },
  {
   "cell_type": "markdown",
   "metadata": {
    "slideshow": {
     "slide_type": "slide"
    }
   },
   "source": [
    "#### 8. Create a data dictionary\n",
    "\n",
    "Now that we've fixed our data, and given it appropriate names, let's create a [data dictionary](http://library.ucmerced.edu/node/10249). \n",
    "\n",
    "A data dictionary provides a quick overview of features/variables/columns, alongside data types and descriptions. The more descriptive you can be, the more useful this document is.\n",
    "\n",
    "Example of a Fictional Data Dictionary Entry: \n",
    "\n",
    "|Feature|Type|Dataset|Description|\n",
    "|---|---|---|---|\n",
    "|**county_pop**|*integer*|2010 census|The population of the county (units in thousands, where 2.5 represents 2500 people).| \n",
    "|**per_poverty**|*float*|2010 census|The percent of the county over the age of 18 living below the 200% of official US poverty rate (units percent to two decimal places 98.10 means 98.1%)|\n",
    "\n",
    "[Here's a quick link to a short guide for formatting markdown in Jupyter notebooks](https://jupyter-notebook.readthedocs.io/en/stable/examples/Notebook/Working%20With%20Markdown%20Cells.html).\n",
    "\n",
    "Provided is the skeleton for formatting a markdown table, with columns headers that will help you create a data dictionary to quickly summarize your data, as well as some examples. **This would be a great thing to copy and paste into your custom README for this project.**"
   ]
  },
  {
   "cell_type": "markdown",
   "metadata": {
    "slideshow": {
     "slide_type": "slide"
    }
   },
   "source": [
    "|Feature|Type|Dataset|Description|\n",
    "|---|---|---|---|\n",
    "|State|string|ACT/SAT|The list of states in United States of America (51, including District of Columbia)| \n",
    "|Participation|float|ACT/SAT|The percentage of high school graduate who takes the ACT/SAT test|\n",
    "|Evidence-Based Reading and Writing (ERW) |integer|SAT|Score on Evidence-Based Reading and Writing (range from 200-800)|\n",
    "|Math|integer|SAT|Score on Math (range from 200-800)|\n",
    "|Total|integer|SAT|Sum of scores of ERW and Math (range from 400-1600)|\n",
    "|English|float|ACT|Scaled score on English subject (range from 1-36)|\n",
    "|Math|float|ACT|Scaled score on Math subject (range from 1-36)|\n",
    "|Reading|float|ACT|Scaled score on Reading subject (range from 1-36)|\n",
    "|Science|float|ACT|Scaled score on Science subject (range from 1-36)|\n",
    "|Composite|float|ACT|Average of scaled scores on the 4 ACT subjects (English, Math, Reading, Science)|\n",
    "|17 or 18 in label row|label|Combined|The year tag 2017 or 2018 depicting scores from 2017 or 2018|\n"
   ]
  },
  {
   "cell_type": "markdown",
   "metadata": {
    "slideshow": {
     "slide_type": "slide"
    }
   },
   "source": [
    "#### 9. Drop unnecessary rows\n",
    "\n",
    "One of our dataframes contains an extra row. Identify and remove this from the dataframe."
   ]
  },
  {
   "cell_type": "code",
   "execution_count": 10,
   "metadata": {
    "slideshow": {
     "slide_type": "slide"
    }
   },
   "outputs": [],
   "source": [
    "#code\n",
    "#National row is included in the ACT dataset. Drop national row.\n",
    "act17_df = act17_df[act17_df[\"State\"]!=\"National\"]"
   ]
  },
  {
   "cell_type": "markdown",
   "metadata": {
    "slideshow": {
     "slide_type": "slide"
    }
   },
   "source": [
    "#### 10. Merge Dataframes\n",
    "\n",
    "Join the 2017 ACT and SAT dataframes using the state in each dataframe as the key. Assign this to a new variable."
   ]
  },
  {
   "cell_type": "code",
   "execution_count": 11,
   "metadata": {
    "slideshow": {
     "slide_type": "slide"
    }
   },
   "outputs": [],
   "source": [
    "#Code:\n",
    "combined_2017 = pd.merge(act17_df,sat17_df,how='inner',on=\"State\")"
   ]
  },
  {
   "cell_type": "markdown",
   "metadata": {
    "slideshow": {
     "slide_type": "slide"
    }
   },
   "source": [
    "#### 11. Save your cleaned, merged dataframe\n",
    "\n",
    "Use a relative path to save out your data as `combined_2017.csv`."
   ]
  },
  {
   "cell_type": "code",
   "execution_count": 27,
   "metadata": {
    "slideshow": {
     "slide_type": "slide"
    }
   },
   "outputs": [],
   "source": [
    "#code\n",
    "combined_2017.to_csv('..\\data\\combined_2017.csv')"
   ]
  },
  {
   "cell_type": "markdown",
   "metadata": {
    "slideshow": {
     "slide_type": "slide"
    }
   },
   "source": [
    "## 2018 Data Import and Cleaning"
   ]
  },
  {
   "cell_type": "markdown",
   "metadata": {
    "slideshow": {
     "slide_type": "slide"
    }
   },
   "source": [
    "Links to the 2018 ACT and SAT data are provided in the README. These data live in PDFs, and so you'll get to enjoy practicing some *manual* data collection. Save these data as a CSV in your `data` directory, and import, explore, and clean these data in the same way you did above. **Make sure you comment on your steps so it is clear *why* you are doing each process**."
   ]
  },
  {
   "cell_type": "code",
   "execution_count": 12,
   "metadata": {
    "slideshow": {
     "slide_type": "slide"
    }
   },
   "outputs": [],
   "source": [
    "\n",
    "sat18_df = pd.read_csv('../data/SAT_2018.csv')                               #Import all data and pandas read dataframe\n",
    "act18_df = pd.read_csv('../data/ACT_2018.csv')\n",
    "\n",
    "act18_df = act18_df[act18_df[\"State\"]!=\"National\"]                         #Removing National statistics from act 2018 series\n",
    "\n",
    "act18_df['Participation'] = p2f(act18_df['Participation'])      #converting participation column from object to float using \n",
    "sat18_df['Participation'] = p2f(sat18_df['Participation'])      #previously defined p2f function\n",
    "\n",
    "sat18_df = sat18_df.rename(columns={'Participation':'sat_18_participation',   #renaming columns for merging\n",
    "                       'Evidence-Based Reading and Writing':'sat_18_erw',\n",
    "                       'Math':'sat_18_math',\n",
    "                      'Total':'sat_18_total'})\n",
    "act18_df = act18_df.rename(columns={'Participation':'act_18_participation',\n",
    "                       'English':'act_18_english',\n",
    "                       'Math':'act_18_math',\n",
    "                      'Reading':'act_18_reading',\n",
    "                      'Science':'act_18_science',\n",
    "                      'Composite':'act_18_composite'})\n",
    "\n",
    "combined_2018 = pd.merge(act18_df,sat18_df,how='inner',on=\"State\")          #merge 2018 dataset into combined"
   ]
  },
  {
   "cell_type": "code",
   "execution_count": 30,
   "metadata": {
    "slideshow": {
     "slide_type": "slide"
    }
   },
   "outputs": [],
   "source": [
    "combined_2018.to_csv('..\\data\\combined_2018.csv')"
   ]
  },
  {
   "cell_type": "markdown",
   "metadata": {
    "slideshow": {
     "slide_type": "slide"
    }
   },
   "source": [
    "#### Combine your 2017 and 2018 data into a single dataframe\n",
    "Joining on state names should work, assuming you formatted all your state names identically. Make sure none of your columns (other than state) have identical names. Do yourself a favor and decide if you're encoding participation rates as floats or integers and standardize this across your datasets.\n",
    "\n",
    "Save the contents of this merged dataframe as `final.csv`.\n",
    "\n",
    "**Use this combined dataframe for the remainder of the project**."
   ]
  },
  {
   "cell_type": "code",
   "execution_count": 13,
   "metadata": {
    "slideshow": {
     "slide_type": "slide"
    }
   },
   "outputs": [],
   "source": [
    "final = pd.merge(combined_2018,combined_2017,how='inner',on=\"State\")"
   ]
  },
  {
   "cell_type": "code",
   "execution_count": 33,
   "metadata": {
    "scrolled": true,
    "slideshow": {
     "slide_type": "slide"
    }
   },
   "outputs": [],
   "source": [
    "final.to_csv('..\\data\\Final.csv')"
   ]
  },
  {
   "cell_type": "markdown",
   "metadata": {
    "slideshow": {
     "slide_type": "slide"
    }
   },
   "source": [
    "## Exploratory Data Analysis\n",
    "\n",
    "\n",
    "### Summary Statistics\n",
    "Transpose the output of pandas `describe` method to create a quick overview of each numeric feature."
   ]
  },
  {
   "cell_type": "code",
   "execution_count": 111,
   "metadata": {
    "slideshow": {
     "slide_type": "slide"
    }
   },
   "outputs": [
    {
     "data": {
      "text/html": [
       "<div>\n",
       "<style scoped>\n",
       "    .dataframe tbody tr th:only-of-type {\n",
       "        vertical-align: middle;\n",
       "    }\n",
       "\n",
       "    .dataframe tbody tr th {\n",
       "        vertical-align: top;\n",
       "    }\n",
       "\n",
       "    .dataframe thead th {\n",
       "        text-align: right;\n",
       "    }\n",
       "</style>\n",
       "<table border=\"1\" class=\"dataframe\">\n",
       "  <thead>\n",
       "    <tr style=\"text-align: right;\">\n",
       "      <th></th>\n",
       "      <th>count</th>\n",
       "      <th>mean</th>\n",
       "      <th>std</th>\n",
       "      <th>min</th>\n",
       "      <th>25%</th>\n",
       "      <th>50%</th>\n",
       "      <th>75%</th>\n",
       "      <th>max</th>\n",
       "    </tr>\n",
       "  </thead>\n",
       "  <tbody>\n",
       "    <tr>\n",
       "      <th>act_18_participation</th>\n",
       "      <td>51.0</td>\n",
       "      <td>0.616471</td>\n",
       "      <td>0.340810</td>\n",
       "      <td>0.07</td>\n",
       "      <td>0.285</td>\n",
       "      <td>0.66</td>\n",
       "      <td>1.000</td>\n",
       "      <td>1.0</td>\n",
       "    </tr>\n",
       "    <tr>\n",
       "      <th>act_18_composite</th>\n",
       "      <td>51.0</td>\n",
       "      <td>21.486275</td>\n",
       "      <td>2.106278</td>\n",
       "      <td>17.70</td>\n",
       "      <td>19.950</td>\n",
       "      <td>21.30</td>\n",
       "      <td>23.550</td>\n",
       "      <td>25.6</td>\n",
       "    </tr>\n",
       "    <tr>\n",
       "      <th>act_18_english</th>\n",
       "      <td>51.0</td>\n",
       "      <td>20.988235</td>\n",
       "      <td>2.446356</td>\n",
       "      <td>16.60</td>\n",
       "      <td>19.100</td>\n",
       "      <td>20.20</td>\n",
       "      <td>23.700</td>\n",
       "      <td>26.0</td>\n",
       "    </tr>\n",
       "    <tr>\n",
       "      <th>act_18_math</th>\n",
       "      <td>51.0</td>\n",
       "      <td>21.125490</td>\n",
       "      <td>2.035765</td>\n",
       "      <td>17.80</td>\n",
       "      <td>19.400</td>\n",
       "      <td>20.70</td>\n",
       "      <td>23.150</td>\n",
       "      <td>25.2</td>\n",
       "    </tr>\n",
       "    <tr>\n",
       "      <th>act_18_reading</th>\n",
       "      <td>51.0</td>\n",
       "      <td>22.015686</td>\n",
       "      <td>2.167245</td>\n",
       "      <td>18.00</td>\n",
       "      <td>20.450</td>\n",
       "      <td>21.60</td>\n",
       "      <td>24.100</td>\n",
       "      <td>26.1</td>\n",
       "    </tr>\n",
       "    <tr>\n",
       "      <th>act_18_science</th>\n",
       "      <td>51.0</td>\n",
       "      <td>21.345098</td>\n",
       "      <td>1.870114</td>\n",
       "      <td>17.90</td>\n",
       "      <td>19.850</td>\n",
       "      <td>21.10</td>\n",
       "      <td>23.050</td>\n",
       "      <td>24.9</td>\n",
       "    </tr>\n",
       "    <tr>\n",
       "      <th>sat_18_participation</th>\n",
       "      <td>51.0</td>\n",
       "      <td>0.466275</td>\n",
       "      <td>0.380142</td>\n",
       "      <td>0.02</td>\n",
       "      <td>0.045</td>\n",
       "      <td>0.52</td>\n",
       "      <td>0.795</td>\n",
       "      <td>1.0</td>\n",
       "    </tr>\n",
       "    <tr>\n",
       "      <th>sat_18_erw</th>\n",
       "      <td>51.0</td>\n",
       "      <td>567.294118</td>\n",
       "      <td>45.317676</td>\n",
       "      <td>497.00</td>\n",
       "      <td>535.000</td>\n",
       "      <td>552.00</td>\n",
       "      <td>616.500</td>\n",
       "      <td>643.0</td>\n",
       "    </tr>\n",
       "    <tr>\n",
       "      <th>sat_18_math</th>\n",
       "      <td>51.0</td>\n",
       "      <td>557.254902</td>\n",
       "      <td>48.887562</td>\n",
       "      <td>480.00</td>\n",
       "      <td>521.500</td>\n",
       "      <td>547.00</td>\n",
       "      <td>600.500</td>\n",
       "      <td>655.0</td>\n",
       "    </tr>\n",
       "    <tr>\n",
       "      <th>sat_18_total</th>\n",
       "      <td>51.0</td>\n",
       "      <td>1124.666667</td>\n",
       "      <td>93.867069</td>\n",
       "      <td>977.00</td>\n",
       "      <td>1062.500</td>\n",
       "      <td>1099.00</td>\n",
       "      <td>1220.000</td>\n",
       "      <td>1298.0</td>\n",
       "    </tr>\n",
       "    <tr>\n",
       "      <th>act_17_participation</th>\n",
       "      <td>51.0</td>\n",
       "      <td>0.652549</td>\n",
       "      <td>0.321408</td>\n",
       "      <td>0.08</td>\n",
       "      <td>0.310</td>\n",
       "      <td>0.69</td>\n",
       "      <td>1.000</td>\n",
       "      <td>1.0</td>\n",
       "    </tr>\n",
       "    <tr>\n",
       "      <th>act_17_english</th>\n",
       "      <td>51.0</td>\n",
       "      <td>20.931373</td>\n",
       "      <td>2.353677</td>\n",
       "      <td>16.30</td>\n",
       "      <td>19.000</td>\n",
       "      <td>20.70</td>\n",
       "      <td>23.300</td>\n",
       "      <td>25.5</td>\n",
       "    </tr>\n",
       "    <tr>\n",
       "      <th>act_17_math</th>\n",
       "      <td>51.0</td>\n",
       "      <td>21.182353</td>\n",
       "      <td>1.981989</td>\n",
       "      <td>18.00</td>\n",
       "      <td>19.400</td>\n",
       "      <td>20.90</td>\n",
       "      <td>23.100</td>\n",
       "      <td>25.3</td>\n",
       "    </tr>\n",
       "    <tr>\n",
       "      <th>act_17_reading</th>\n",
       "      <td>51.0</td>\n",
       "      <td>22.013725</td>\n",
       "      <td>2.067271</td>\n",
       "      <td>18.10</td>\n",
       "      <td>20.450</td>\n",
       "      <td>21.80</td>\n",
       "      <td>24.150</td>\n",
       "      <td>26.0</td>\n",
       "    </tr>\n",
       "    <tr>\n",
       "      <th>act_17_science</th>\n",
       "      <td>51.0</td>\n",
       "      <td>21.450980</td>\n",
       "      <td>1.739353</td>\n",
       "      <td>18.20</td>\n",
       "      <td>19.950</td>\n",
       "      <td>21.30</td>\n",
       "      <td>23.200</td>\n",
       "      <td>24.9</td>\n",
       "    </tr>\n",
       "    <tr>\n",
       "      <th>act_17_composite</th>\n",
       "      <td>51.0</td>\n",
       "      <td>21.519608</td>\n",
       "      <td>2.020695</td>\n",
       "      <td>17.80</td>\n",
       "      <td>19.800</td>\n",
       "      <td>21.40</td>\n",
       "      <td>23.600</td>\n",
       "      <td>25.5</td>\n",
       "    </tr>\n",
       "    <tr>\n",
       "      <th>sat_17_participation</th>\n",
       "      <td>51.0</td>\n",
       "      <td>0.398039</td>\n",
       "      <td>0.352766</td>\n",
       "      <td>0.02</td>\n",
       "      <td>0.040</td>\n",
       "      <td>0.38</td>\n",
       "      <td>0.660</td>\n",
       "      <td>1.0</td>\n",
       "    </tr>\n",
       "    <tr>\n",
       "      <th>sat_17_erw</th>\n",
       "      <td>51.0</td>\n",
       "      <td>569.117647</td>\n",
       "      <td>45.666901</td>\n",
       "      <td>482.00</td>\n",
       "      <td>533.500</td>\n",
       "      <td>559.00</td>\n",
       "      <td>613.000</td>\n",
       "      <td>644.0</td>\n",
       "    </tr>\n",
       "    <tr>\n",
       "      <th>sat_17_math</th>\n",
       "      <td>51.0</td>\n",
       "      <td>556.882353</td>\n",
       "      <td>47.121395</td>\n",
       "      <td>468.00</td>\n",
       "      <td>523.500</td>\n",
       "      <td>548.00</td>\n",
       "      <td>599.000</td>\n",
       "      <td>651.0</td>\n",
       "    </tr>\n",
       "    <tr>\n",
       "      <th>sat_17_total</th>\n",
       "      <td>51.0</td>\n",
       "      <td>1126.000000</td>\n",
       "      <td>92.487621</td>\n",
       "      <td>950.00</td>\n",
       "      <td>1055.500</td>\n",
       "      <td>1106.00</td>\n",
       "      <td>1211.500</td>\n",
       "      <td>1295.0</td>\n",
       "    </tr>\n",
       "  </tbody>\n",
       "</table>\n",
       "</div>"
      ],
      "text/plain": [
       "                      count         mean        std     min       25%  \\\n",
       "act_18_participation   51.0     0.616471   0.340810    0.07     0.285   \n",
       "act_18_composite       51.0    21.486275   2.106278   17.70    19.950   \n",
       "act_18_english         51.0    20.988235   2.446356   16.60    19.100   \n",
       "act_18_math            51.0    21.125490   2.035765   17.80    19.400   \n",
       "act_18_reading         51.0    22.015686   2.167245   18.00    20.450   \n",
       "act_18_science         51.0    21.345098   1.870114   17.90    19.850   \n",
       "sat_18_participation   51.0     0.466275   0.380142    0.02     0.045   \n",
       "sat_18_erw             51.0   567.294118  45.317676  497.00   535.000   \n",
       "sat_18_math            51.0   557.254902  48.887562  480.00   521.500   \n",
       "sat_18_total           51.0  1124.666667  93.867069  977.00  1062.500   \n",
       "act_17_participation   51.0     0.652549   0.321408    0.08     0.310   \n",
       "act_17_english         51.0    20.931373   2.353677   16.30    19.000   \n",
       "act_17_math            51.0    21.182353   1.981989   18.00    19.400   \n",
       "act_17_reading         51.0    22.013725   2.067271   18.10    20.450   \n",
       "act_17_science         51.0    21.450980   1.739353   18.20    19.950   \n",
       "act_17_composite       51.0    21.519608   2.020695   17.80    19.800   \n",
       "sat_17_participation   51.0     0.398039   0.352766    0.02     0.040   \n",
       "sat_17_erw             51.0   569.117647  45.666901  482.00   533.500   \n",
       "sat_17_math            51.0   556.882353  47.121395  468.00   523.500   \n",
       "sat_17_total           51.0  1126.000000  92.487621  950.00  1055.500   \n",
       "\n",
       "                          50%       75%     max  \n",
       "act_18_participation     0.66     1.000     1.0  \n",
       "act_18_composite        21.30    23.550    25.6  \n",
       "act_18_english          20.20    23.700    26.0  \n",
       "act_18_math             20.70    23.150    25.2  \n",
       "act_18_reading          21.60    24.100    26.1  \n",
       "act_18_science          21.10    23.050    24.9  \n",
       "sat_18_participation     0.52     0.795     1.0  \n",
       "sat_18_erw             552.00   616.500   643.0  \n",
       "sat_18_math            547.00   600.500   655.0  \n",
       "sat_18_total          1099.00  1220.000  1298.0  \n",
       "act_17_participation     0.69     1.000     1.0  \n",
       "act_17_english          20.70    23.300    25.5  \n",
       "act_17_math             20.90    23.100    25.3  \n",
       "act_17_reading          21.80    24.150    26.0  \n",
       "act_17_science          21.30    23.200    24.9  \n",
       "act_17_composite        21.40    23.600    25.5  \n",
       "sat_17_participation     0.38     0.660     1.0  \n",
       "sat_17_erw             559.00   613.000   644.0  \n",
       "sat_17_math            548.00   599.000   651.0  \n",
       "sat_17_total          1106.00  1211.500  1295.0  "
      ]
     },
     "execution_count": 111,
     "metadata": {},
     "output_type": "execute_result"
    }
   ],
   "source": [
    "#Code:\n",
    "final.describe().transpose()"
   ]
  },
  {
   "cell_type": "markdown",
   "metadata": {
    "slideshow": {
     "slide_type": "slide"
    }
   },
   "source": [
    "#### Manually calculate standard deviation\n",
    "\n",
    "$$\\sigma = \\sqrt{\\frac{1}{n}\\sum_{i=1}^n(x_i - \\mu)^2}$$\n",
    "\n",
    "- Write a function to calculate standard deviation using the formula above"
   ]
  },
  {
   "cell_type": "code",
   "execution_count": 14,
   "metadata": {
    "slideshow": {
     "slide_type": "slide"
    }
   },
   "outputs": [],
   "source": [
    "#code\n",
    "def calc_stdev(x):\n",
    "    total = 0\n",
    "    sum_differences = 0\n",
    "    for i in x:\n",
    "        total += i\n",
    "    mean = total/len(x)\n",
    "    for j in x:\n",
    "        differences = 0\n",
    "        differences = (j - mean)**2\n",
    "        sum_differences += differences\n",
    "    stdev = (1/len(x) * sum_differences)**0.5         #    stdev = (1/(len(x)-1) * sum_differences)**0.5 for bessel's correction\n",
    "    return stdev"
   ]
  },
  {
   "cell_type": "code",
   "execution_count": 15,
   "metadata": {
    "slideshow": {
     "slide_type": "slide"
    }
   },
   "outputs": [
    {
     "data": {
      "text/plain": [
       "91.57639048421622"
      ]
     },
     "execution_count": 15,
     "metadata": {},
     "output_type": "execute_result"
    }
   ],
   "source": [
    "calc_stdev(final['sat_17_total'])"
   ]
  },
  {
   "cell_type": "markdown",
   "metadata": {
    "slideshow": {
     "slide_type": "slide"
    }
   },
   "source": [
    "- Use a **dictionary comprehension** to apply your standard deviation function to each numeric column in the dataframe.  **No loops**  \n",
    "- Assign the output to variable `sd` as a dictionary where: \n",
    "    - Each column name is now a key \n",
    "    - That standard deviation of the column is the value \n",
    "     \n",
    "*Example Output :* `{'ACT_Math': 120, 'ACT_Reading': 120, ...}`"
   ]
  },
  {
   "cell_type": "code",
   "execution_count": 16,
   "metadata": {
    "slideshow": {
     "slide_type": "slide"
    }
   },
   "outputs": [],
   "source": [
    "#Code:\n",
    "sd = {x:calc_stdev(final[x]) for x in final if x!='State'}"
   ]
  },
  {
   "cell_type": "markdown",
   "metadata": {
    "slideshow": {
     "slide_type": "slide"
    }
   },
   "source": [
    "Do your manually calculated standard deviations match up with the output from pandas `describe`? What about numpy's `std` method?"
   ]
  },
  {
   "cell_type": "code",
   "execution_count": 17,
   "metadata": {
    "slideshow": {
     "slide_type": "slide"
    }
   },
   "outputs": [
    {
     "data": {
      "text/plain": [
       "{'act_18_participation': 0.33745194881997503,\n",
       " 'act_18_composite': 2.0855261815801147,\n",
       " 'act_18_english': 2.4222536143202795,\n",
       " 'act_18_math': 2.015707255555717,\n",
       " 'act_18_reading': 2.145891884510421,\n",
       " 'act_18_science': 1.8516885484833543,\n",
       " 'sat_18_participation': 0.3763965409204987,\n",
       " 'sat_18_erw': 44.87118561762388,\n",
       " 'sat_18_math': 48.40589946919447,\n",
       " 'sat_18_total': 92.94224786343668,\n",
       " 'act_17_participation': 0.3182417575123181,\n",
       " 'act_17_english': 2.3304876369363363,\n",
       " 'act_17_math': 1.9624620273436781,\n",
       " 'act_17_reading': 2.0469029314842646,\n",
       " 'act_17_science': 1.7222161451443676,\n",
       " 'act_17_composite': 2.000786081581989,\n",
       " 'sat_17_participation': 0.3492907076664507,\n",
       " 'sat_17_erw': 45.21697020437866,\n",
       " 'sat_17_math': 46.65713364485503,\n",
       " 'sat_17_total': 91.57639048421622}"
      ]
     },
     "execution_count": 17,
     "metadata": {},
     "output_type": "execute_result"
    }
   ],
   "source": [
    "sd"
   ]
  },
  {
   "cell_type": "markdown",
   "metadata": {
    "slideshow": {
     "slide_type": "slide"
    }
   },
   "source": [
    "Answer: <br>\n",
    "No, the standard deviations do not match up. However, Numpy's std method also matches up. This is because the formula above does not correct for bessel's correction as the estimation of the population variance contains bias. Bessel's correction partially corrects the bias in the estimation of the population standard deviation by using n-1 instead of n instances only in pandas package."
   ]
  },
  {
   "cell_type": "markdown",
   "metadata": {
    "slideshow": {
     "slide_type": "slide"
    }
   },
   "source": [
    "#### Investigate trends in the data\n",
    "Using sorting and/or masking (along with the `.head` method to not print our entire dataframe), consider the following questions:\n",
    "\n",
    "- Which states have the highest and lowest participation rates for the:\n",
    "    - 2017 SAT? \n",
    "    - 2018 SAT? \n",
    "    - 2017 ACT? \n",
    "    - 2018 ACT?\n",
    "- Which states have the highest and lowest mean total/composite scores for the:\n",
    "    - 2017 SAT?\n",
    "    - 2018 SAT?\n",
    "    - 2017 ACT?\n",
    "    - 2018 ACT?\n",
    "- Do any states with 100% participation on a given test have a rate change year-to-year?\n",
    "- Do any states show have >50% participation on *both* tests either year?\n",
    "\n",
    "Based on what you've just observed, have you identified any states that you're especially interested in? **Make a note of these and state *why* you think they're interesting**.\n",
    "\n",
    "**You should comment on your findings at each step in a markdown cell below your code block**. Make sure you include at least one example of sorting your dataframe by a column, and one example of using boolean filtering (i.e., masking) to select a subset of the dataframe."
   ]
  },
  {
   "cell_type": "code",
   "execution_count": 18,
   "metadata": {
    "slideshow": {
     "slide_type": "slide"
    }
   },
   "outputs": [],
   "source": [
    "#code\n",
    "\n",
    "def find_lowest(col):                 #function to find the lowest in said column name and return the dataframe with \n",
    "    lowest = 1000                      #only those frames\n",
    "    for i in col:\n",
    "        if i <= lowest:\n",
    "            lowest = i                 #i will be the lowest in the column\n",
    "    x = final[col == lowest]\n",
    "    return x\n",
    "\n",
    "def find_highest(col):\n",
    "    highest = 1\n",
    "    for i in col:\n",
    "        if i >= highest:\n",
    "            highest = i \n",
    "    x = final[col == highest]\n",
    "    return x\n",
    "    \n",
    "def high_low(col):\n",
    "    print('--Lowest_--')\n",
    "    for i in find_lowest(col).State:\n",
    "        print(i)\n",
    "    print('--Highest--')\n",
    "    for i in find_highest(col).State:\n",
    "        print(i)\n",
    "    return None"
   ]
  },
  {
   "cell_type": "code",
   "execution_count": 50,
   "metadata": {
    "collapsed": true,
    "slideshow": {
     "slide_type": "slide"
    }
   },
   "outputs": [
    {
     "name": "stdout",
     "output_type": "stream",
     "text": [
      "--Lowest_--\n",
      "Iowa\n",
      "Mississippi\n",
      "North Dakota\n",
      "--Highest--\n",
      "Connecticut\n",
      "Delaware\n",
      "District of Columbia\n",
      "Michigan\n"
     ]
    }
   ],
   "source": [
    "high_low(final['sat_17_participation'])"
   ]
  },
  {
   "cell_type": "code",
   "execution_count": 51,
   "metadata": {
    "collapsed": true,
    "slideshow": {
     "slide_type": "slide"
    }
   },
   "outputs": [
    {
     "name": "stdout",
     "output_type": "stream",
     "text": [
      "--Lowest_--\n",
      "North Dakota\n",
      "--Highest--\n",
      "Colorado\n",
      "Connecticut\n",
      "Delaware\n",
      "Idaho\n",
      "Michigan\n"
     ]
    }
   ],
   "source": [
    "high_low(final['sat_18_participation'])"
   ]
  },
  {
   "cell_type": "code",
   "execution_count": 52,
   "metadata": {
    "collapsed": true,
    "slideshow": {
     "slide_type": "slide"
    }
   },
   "outputs": [
    {
     "name": "stdout",
     "output_type": "stream",
     "text": [
      "--Lowest_--\n",
      "Maine\n",
      "--Highest--\n",
      "Alabama\n",
      "Arkansas\n",
      "Colorado\n",
      "Kentucky\n",
      "Louisiana\n",
      "Minnesota\n",
      "Mississippi\n",
      "Missouri\n",
      "Montana\n",
      "Nevada\n",
      "North Carolina\n",
      "Oklahoma\n",
      "South Carolina\n",
      "Tennessee\n",
      "Utah\n",
      "Wisconsin\n",
      "Wyoming\n"
     ]
    }
   ],
   "source": [
    "high_low(final['act_17_participation'])"
   ]
  },
  {
   "cell_type": "code",
   "execution_count": 53,
   "metadata": {
    "collapsed": true,
    "slideshow": {
     "slide_type": "slide"
    }
   },
   "outputs": [
    {
     "name": "stdout",
     "output_type": "stream",
     "text": [
      "--Lowest_--\n",
      "Maine\n",
      "--Highest--\n",
      "Alabama\n",
      "Arkansas\n",
      "Kentucky\n",
      "Louisiana\n",
      "Mississippi\n",
      "Missouri\n",
      "Montana\n",
      "Nebraska\n",
      "Nevada\n",
      "North Carolina\n",
      "Ohio\n",
      "Oklahoma\n",
      "South Carolina\n",
      "Tennessee\n",
      "Utah\n",
      "Wisconsin\n",
      "Wyoming\n"
     ]
    }
   ],
   "source": [
    "high_low(final['act_18_participation'])"
   ]
  },
  {
   "cell_type": "code",
   "execution_count": 54,
   "metadata": {
    "collapsed": true,
    "slideshow": {
     "slide_type": "slide"
    }
   },
   "outputs": [
    {
     "name": "stdout",
     "output_type": "stream",
     "text": [
      "--Lowest_--\n",
      "District of Columbia\n",
      "--Highest--\n",
      "Minnesota\n"
     ]
    }
   ],
   "source": [
    "high_low(final['sat_17_total'])"
   ]
  },
  {
   "cell_type": "code",
   "execution_count": 55,
   "metadata": {
    "collapsed": true,
    "slideshow": {
     "slide_type": "slide"
    }
   },
   "outputs": [
    {
     "name": "stdout",
     "output_type": "stream",
     "text": [
      "--Lowest_--\n",
      "District of Columbia\n",
      "--Highest--\n",
      "Minnesota\n"
     ]
    }
   ],
   "source": [
    "high_low(final['sat_18_total'])"
   ]
  },
  {
   "cell_type": "code",
   "execution_count": 56,
   "metadata": {
    "collapsed": true,
    "slideshow": {
     "slide_type": "slide"
    }
   },
   "outputs": [
    {
     "name": "stdout",
     "output_type": "stream",
     "text": [
      "--Lowest_--\n",
      "Nevada\n",
      "--Highest--\n",
      "New Hampshire\n"
     ]
    }
   ],
   "source": [
    "high_low(final['act_17_composite'])"
   ]
  },
  {
   "cell_type": "code",
   "execution_count": 57,
   "metadata": {
    "collapsed": true,
    "slideshow": {
     "slide_type": "slide"
    }
   },
   "outputs": [
    {
     "name": "stdout",
     "output_type": "stream",
     "text": [
      "--Lowest_--\n",
      "Nevada\n",
      "--Highest--\n",
      "Connecticut\n"
     ]
    }
   ],
   "source": [
    "high_low(final['act_18_composite'])"
   ]
  },
  {
   "cell_type": "code",
   "execution_count": 71,
   "metadata": {
    "slideshow": {
     "slide_type": "slide"
    }
   },
   "outputs": [
    {
     "data": {
      "text/html": [
       "<div>\n",
       "<style scoped>\n",
       "    .dataframe tbody tr th:only-of-type {\n",
       "        vertical-align: middle;\n",
       "    }\n",
       "\n",
       "    .dataframe tbody tr th {\n",
       "        vertical-align: top;\n",
       "    }\n",
       "\n",
       "    .dataframe thead th {\n",
       "        text-align: right;\n",
       "    }\n",
       "</style>\n",
       "<table border=\"1\" class=\"dataframe\">\n",
       "  <thead>\n",
       "    <tr style=\"text-align: right;\">\n",
       "      <th></th>\n",
       "      <th>State</th>\n",
       "      <th>act_17_participation</th>\n",
       "      <th>act_18_participation</th>\n",
       "    </tr>\n",
       "  </thead>\n",
       "  <tbody>\n",
       "    <tr>\n",
       "      <th>11</th>\n",
       "      <td>Hawaii</td>\n",
       "      <td>0.90</td>\n",
       "      <td>0.89</td>\n",
       "    </tr>\n",
       "    <tr>\n",
       "      <th>34</th>\n",
       "      <td>North Dakota</td>\n",
       "      <td>0.98</td>\n",
       "      <td>0.98</td>\n",
       "    </tr>\n",
       "    <tr>\n",
       "      <th>23</th>\n",
       "      <td>Minnesota</td>\n",
       "      <td>1.00</td>\n",
       "      <td>0.99</td>\n",
       "    </tr>\n",
       "    <tr>\n",
       "      <th>0</th>\n",
       "      <td>Alabama</td>\n",
       "      <td>1.00</td>\n",
       "      <td>1.00</td>\n",
       "    </tr>\n",
       "    <tr>\n",
       "      <th>3</th>\n",
       "      <td>Arkansas</td>\n",
       "      <td>1.00</td>\n",
       "      <td>1.00</td>\n",
       "    </tr>\n",
       "    <tr>\n",
       "      <th>17</th>\n",
       "      <td>Kentucky</td>\n",
       "      <td>1.00</td>\n",
       "      <td>1.00</td>\n",
       "    </tr>\n",
       "    <tr>\n",
       "      <th>18</th>\n",
       "      <td>Louisiana</td>\n",
       "      <td>1.00</td>\n",
       "      <td>1.00</td>\n",
       "    </tr>\n",
       "    <tr>\n",
       "      <th>24</th>\n",
       "      <td>Mississippi</td>\n",
       "      <td>1.00</td>\n",
       "      <td>1.00</td>\n",
       "    </tr>\n",
       "    <tr>\n",
       "      <th>25</th>\n",
       "      <td>Missouri</td>\n",
       "      <td>1.00</td>\n",
       "      <td>1.00</td>\n",
       "    </tr>\n",
       "    <tr>\n",
       "      <th>26</th>\n",
       "      <td>Montana</td>\n",
       "      <td>1.00</td>\n",
       "      <td>1.00</td>\n",
       "    </tr>\n",
       "    <tr>\n",
       "      <th>28</th>\n",
       "      <td>Nevada</td>\n",
       "      <td>1.00</td>\n",
       "      <td>1.00</td>\n",
       "    </tr>\n",
       "    <tr>\n",
       "      <th>33</th>\n",
       "      <td>North Carolina</td>\n",
       "      <td>1.00</td>\n",
       "      <td>1.00</td>\n",
       "    </tr>\n",
       "    <tr>\n",
       "      <th>36</th>\n",
       "      <td>Oklahoma</td>\n",
       "      <td>1.00</td>\n",
       "      <td>1.00</td>\n",
       "    </tr>\n",
       "    <tr>\n",
       "      <th>40</th>\n",
       "      <td>South Carolina</td>\n",
       "      <td>1.00</td>\n",
       "      <td>1.00</td>\n",
       "    </tr>\n",
       "    <tr>\n",
       "      <th>42</th>\n",
       "      <td>Tennessee</td>\n",
       "      <td>1.00</td>\n",
       "      <td>1.00</td>\n",
       "    </tr>\n",
       "    <tr>\n",
       "      <th>44</th>\n",
       "      <td>Utah</td>\n",
       "      <td>1.00</td>\n",
       "      <td>1.00</td>\n",
       "    </tr>\n",
       "    <tr>\n",
       "      <th>49</th>\n",
       "      <td>Wisconsin</td>\n",
       "      <td>1.00</td>\n",
       "      <td>1.00</td>\n",
       "    </tr>\n",
       "    <tr>\n",
       "      <th>50</th>\n",
       "      <td>Wyoming</td>\n",
       "      <td>1.00</td>\n",
       "      <td>1.00</td>\n",
       "    </tr>\n",
       "    <tr>\n",
       "      <th>27</th>\n",
       "      <td>Nebraska</td>\n",
       "      <td>0.84</td>\n",
       "      <td>1.00</td>\n",
       "    </tr>\n",
       "    <tr>\n",
       "      <th>35</th>\n",
       "      <td>Ohio</td>\n",
       "      <td>0.75</td>\n",
       "      <td>1.00</td>\n",
       "    </tr>\n",
       "  </tbody>\n",
       "</table>\n",
       "</div>"
      ],
      "text/plain": [
       "             State  act_17_participation  act_18_participation\n",
       "11          Hawaii                  0.90                  0.89\n",
       "34    North Dakota                  0.98                  0.98\n",
       "23       Minnesota                  1.00                  0.99\n",
       "0          Alabama                  1.00                  1.00\n",
       "3         Arkansas                  1.00                  1.00\n",
       "17        Kentucky                  1.00                  1.00\n",
       "18       Louisiana                  1.00                  1.00\n",
       "24     Mississippi                  1.00                  1.00\n",
       "25        Missouri                  1.00                  1.00\n",
       "26         Montana                  1.00                  1.00\n",
       "28          Nevada                  1.00                  1.00\n",
       "33  North Carolina                  1.00                  1.00\n",
       "36        Oklahoma                  1.00                  1.00\n",
       "40  South Carolina                  1.00                  1.00\n",
       "42       Tennessee                  1.00                  1.00\n",
       "44            Utah                  1.00                  1.00\n",
       "49       Wisconsin                  1.00                  1.00\n",
       "50         Wyoming                  1.00                  1.00\n",
       "27        Nebraska                  0.84                  1.00\n",
       "35            Ohio                  0.75                  1.00"
      ]
     },
     "execution_count": 71,
     "metadata": {},
     "output_type": "execute_result"
    }
   ],
   "source": [
    "final[['State','act_17_participation','act_18_participation']]\\\n",
    ".sort_values(by = ['act_18_participation','act_17_participation'], ascending = [True, False]).\\\n",
    "tail(20)"
   ]
  },
  {
   "cell_type": "markdown",
   "metadata": {
    "slideshow": {
     "slide_type": "slide"
    }
   },
   "source": [
    "#### ACT test rate change\n",
    "\n",
    "Rate change from 100% to <100%, from 2017 to 2018 are Minnesota and Colorado <br>\n",
    "Rate change from <100% to 100%, from 2017 to 2018 are Nebraska and Ohio <br>"
   ]
  },
  {
   "cell_type": "code",
   "execution_count": 72,
   "metadata": {
    "slideshow": {
     "slide_type": "slide"
    }
   },
   "outputs": [
    {
     "data": {
      "text/html": [
       "<div>\n",
       "<style scoped>\n",
       "    .dataframe tbody tr th:only-of-type {\n",
       "        vertical-align: middle;\n",
       "    }\n",
       "\n",
       "    .dataframe tbody tr th {\n",
       "        vertical-align: top;\n",
       "    }\n",
       "\n",
       "    .dataframe thead th {\n",
       "        text-align: right;\n",
       "    }\n",
       "</style>\n",
       "<table border=\"1\" class=\"dataframe\">\n",
       "  <thead>\n",
       "    <tr style=\"text-align: right;\">\n",
       "      <th></th>\n",
       "      <th>State</th>\n",
       "      <th>sat_17_participation</th>\n",
       "      <th>sat_18_participation</th>\n",
       "    </tr>\n",
       "  </thead>\n",
       "  <tbody>\n",
       "    <tr>\n",
       "      <th>5</th>\n",
       "      <td>Colorado</td>\n",
       "      <td>0.11</td>\n",
       "      <td>1.00</td>\n",
       "    </tr>\n",
       "    <tr>\n",
       "      <th>12</th>\n",
       "      <td>Idaho</td>\n",
       "      <td>0.93</td>\n",
       "      <td>1.00</td>\n",
       "    </tr>\n",
       "    <tr>\n",
       "      <th>6</th>\n",
       "      <td>Connecticut</td>\n",
       "      <td>1.00</td>\n",
       "      <td>1.00</td>\n",
       "    </tr>\n",
       "    <tr>\n",
       "      <th>7</th>\n",
       "      <td>Delaware</td>\n",
       "      <td>1.00</td>\n",
       "      <td>1.00</td>\n",
       "    </tr>\n",
       "    <tr>\n",
       "      <th>22</th>\n",
       "      <td>Michigan</td>\n",
       "      <td>1.00</td>\n",
       "      <td>1.00</td>\n",
       "    </tr>\n",
       "    <tr>\n",
       "      <th>13</th>\n",
       "      <td>Illinois</td>\n",
       "      <td>0.09</td>\n",
       "      <td>0.99</td>\n",
       "    </tr>\n",
       "    <tr>\n",
       "      <th>19</th>\n",
       "      <td>Maine</td>\n",
       "      <td>0.95</td>\n",
       "      <td>0.99</td>\n",
       "    </tr>\n",
       "    <tr>\n",
       "      <th>39</th>\n",
       "      <td>Rhode Island</td>\n",
       "      <td>0.71</td>\n",
       "      <td>0.97</td>\n",
       "    </tr>\n",
       "    <tr>\n",
       "      <th>9</th>\n",
       "      <td>Florida</td>\n",
       "      <td>0.83</td>\n",
       "      <td>0.97</td>\n",
       "    </tr>\n",
       "    <tr>\n",
       "      <th>29</th>\n",
       "      <td>New Hampshire</td>\n",
       "      <td>0.96</td>\n",
       "      <td>0.96</td>\n",
       "    </tr>\n",
       "  </tbody>\n",
       "</table>\n",
       "</div>"
      ],
      "text/plain": [
       "            State  sat_17_participation  sat_18_participation\n",
       "5        Colorado                  0.11                  1.00\n",
       "12          Idaho                  0.93                  1.00\n",
       "6     Connecticut                  1.00                  1.00\n",
       "7        Delaware                  1.00                  1.00\n",
       "22       Michigan                  1.00                  1.00\n",
       "13       Illinois                  0.09                  0.99\n",
       "19          Maine                  0.95                  0.99\n",
       "39   Rhode Island                  0.71                  0.97\n",
       "9         Florida                  0.83                  0.97\n",
       "29  New Hampshire                  0.96                  0.96"
      ]
     },
     "execution_count": 72,
     "metadata": {},
     "output_type": "execute_result"
    }
   ],
   "source": [
    "final[['State','sat_17_participation','sat_18_participation']]\\\n",
    ".sort_values(by = ['sat_18_participation','sat_17_participation'], ascending = [False,True]).\\\n",
    "head(10)"
   ]
  },
  {
   "cell_type": "markdown",
   "metadata": {
    "slideshow": {
     "slide_type": "slide"
    }
   },
   "source": [
    "#### SAT test rate change\n",
    "\n",
    "Rate change from 100% to <100%, from 2017 to 2018 is District of Columbia <br>\n",
    "Rate change from <100% to 100%, from 2017 to 2018 are Colorado, Idaho, Illinois (0.09%~99%) <br>"
   ]
  },
  {
   "cell_type": "code",
   "execution_count": 113,
   "metadata": {
    "slideshow": {
     "slide_type": "slide"
    }
   },
   "outputs": [
    {
     "data": {
      "text/plain": [
       "9     Florida\n",
       "10    Georgia\n",
       "11     Hawaii\n",
       "Name: State, dtype: object"
      ]
     },
     "execution_count": 113,
     "metadata": {},
     "output_type": "execute_result"
    }
   ],
   "source": [
    "final[(final.act_17_participation > 0.5) & (final.sat_17_participation > 0.5)].State"
   ]
  },
  {
   "cell_type": "code",
   "execution_count": 114,
   "metadata": {
    "slideshow": {
     "slide_type": "slide"
    }
   },
   "outputs": [
    {
     "data": {
      "text/plain": [
       "9            Florida\n",
       "10           Georgia\n",
       "11            Hawaii\n",
       "33    North Carolina\n",
       "40    South Carolina\n",
       "Name: State, dtype: object"
      ]
     },
     "execution_count": 114,
     "metadata": {},
     "output_type": "execute_result"
    }
   ],
   "source": [
    "final[(final.act_18_participation > 0.5) & (final.sat_18_participation > 0.5)].State"
   ]
  },
  {
   "cell_type": "markdown",
   "metadata": {
    "slideshow": {
     "slide_type": "slide"
    }
   },
   "source": [
    "## Visualize the data\n",
    "\n",
    "There's not a magic bullet recommendation for the right number of plots to understand a given dataset, but visualizing your data is *always* a good idea. Not only does it allow you to quickly convey your findings (even if you have a non-technical audience), it will often reveal trends in your data that escaped you when you were looking only at numbers.\n",
    "\n",
    "Some recommendations on plotting:\n",
    "- Plots have titles\n",
    "- Plots have axis labels\n",
    "- Plots have appropriate tick labels\n",
    "- All text is legible in a plot\n",
    "- Plots demonstrate meaningful and valid relationships\n",
    "- Plots are interpreted to aid understanding\n",
    "\n",
    "There is such a thing as too many plots, and there are a *lot* of bad plots. You might make some! (But hopefully not with the guided prompts below)."
   ]
  },
  {
   "cell_type": "markdown",
   "metadata": {
    "slideshow": {
     "slide_type": "slide"
    }
   },
   "source": [
    "#### Use Seaborn's heatmap with pandas `.corr()` to visualize correlations between all numeric features\n",
    "\n",
    "Heatmaps are generally not appropriate for presentations, and should often be excluded from reports as they can be visually overwhelming. **However**, they can be extremely useful in identify relationships of potential interest (as well as identifying potential collinearity before modeling).\n",
    "\n",
    "*example*:\n",
    "```python\n",
    "sns.heatmap(df.corr())\n",
    "```\n",
    "\n",
    "Please take time to format your output, adding a title. Look through some of the additional arguments and options. (Axis labels aren't really necessary, as long as the title is informative)."
   ]
  },
  {
   "cell_type": "code",
   "execution_count": 21,
   "metadata": {
    "slideshow": {
     "slide_type": "slide"
    }
   },
   "outputs": [
    {
     "data": {
      "image/png": "[encoded data removed]",
      "text/plain": [
       "<Figure size 864x864 with 2 Axes>"
      ]
     },
     "metadata": {
      "needs_background": "light"
     },
     "output_type": "display_data"
    }
   ],
   "source": [
    "fig, ax = plt.subplots(figsize=(12,12))\n",
    "# Compute the correlation matrix\n",
    "\n",
    "# Generate a mask for the upper triangle\n",
    "mask = np.zeros_like(final.corr())\n",
    "mask[np.triu_indices_from(mask)] = True\n",
    "\n",
    "sns.heatmap(final.corr(),mask = mask, cmap=\"RdBu_r\",annot=True)\n",
    "ax.set_title('Correlation of all numeric columsn in final dataframe')\n",
    "\n",
    "plt.show()"
   ]
  },
  {
   "cell_type": "code",
   "execution_count": 116,
   "metadata": {
    "slideshow": {
     "slide_type": "slide"
    }
   },
   "outputs": [
    {
     "data": {
      "text/html": [
       "<div>\n",
       "<style scoped>\n",
       "    .dataframe tbody tr th:only-of-type {\n",
       "        vertical-align: middle;\n",
       "    }\n",
       "\n",
       "    .dataframe tbody tr th {\n",
       "        vertical-align: top;\n",
       "    }\n",
       "\n",
       "    .dataframe thead th {\n",
       "        text-align: right;\n",
       "    }\n",
       "</style>\n",
       "<table border=\"1\" class=\"dataframe\">\n",
       "  <thead>\n",
       "    <tr style=\"text-align: right;\">\n",
       "      <th></th>\n",
       "      <th>count</th>\n",
       "      <th>mean</th>\n",
       "      <th>std</th>\n",
       "      <th>min</th>\n",
       "      <th>25%</th>\n",
       "      <th>50%</th>\n",
       "      <th>75%</th>\n",
       "      <th>max</th>\n",
       "    </tr>\n",
       "  </thead>\n",
       "  <tbody>\n",
       "    <tr>\n",
       "      <th>act_18_participation</th>\n",
       "      <td>51.0</td>\n",
       "      <td>0.616471</td>\n",
       "      <td>0.340810</td>\n",
       "      <td>0.07</td>\n",
       "      <td>0.285</td>\n",
       "      <td>0.66</td>\n",
       "      <td>1.000</td>\n",
       "      <td>1.0</td>\n",
       "    </tr>\n",
       "    <tr>\n",
       "      <th>act_18_composite</th>\n",
       "      <td>51.0</td>\n",
       "      <td>21.486275</td>\n",
       "      <td>2.106278</td>\n",
       "      <td>17.70</td>\n",
       "      <td>19.950</td>\n",
       "      <td>21.30</td>\n",
       "      <td>23.550</td>\n",
       "      <td>25.6</td>\n",
       "    </tr>\n",
       "    <tr>\n",
       "      <th>act_18_english</th>\n",
       "      <td>51.0</td>\n",
       "      <td>20.988235</td>\n",
       "      <td>2.446356</td>\n",
       "      <td>16.60</td>\n",
       "      <td>19.100</td>\n",
       "      <td>20.20</td>\n",
       "      <td>23.700</td>\n",
       "      <td>26.0</td>\n",
       "    </tr>\n",
       "    <tr>\n",
       "      <th>act_18_math</th>\n",
       "      <td>51.0</td>\n",
       "      <td>21.125490</td>\n",
       "      <td>2.035765</td>\n",
       "      <td>17.80</td>\n",
       "      <td>19.400</td>\n",
       "      <td>20.70</td>\n",
       "      <td>23.150</td>\n",
       "      <td>25.2</td>\n",
       "    </tr>\n",
       "    <tr>\n",
       "      <th>act_18_reading</th>\n",
       "      <td>51.0</td>\n",
       "      <td>22.015686</td>\n",
       "      <td>2.167245</td>\n",
       "      <td>18.00</td>\n",
       "      <td>20.450</td>\n",
       "      <td>21.60</td>\n",
       "      <td>24.100</td>\n",
       "      <td>26.1</td>\n",
       "    </tr>\n",
       "    <tr>\n",
       "      <th>act_18_science</th>\n",
       "      <td>51.0</td>\n",
       "      <td>21.345098</td>\n",
       "      <td>1.870114</td>\n",
       "      <td>17.90</td>\n",
       "      <td>19.850</td>\n",
       "      <td>21.10</td>\n",
       "      <td>23.050</td>\n",
       "      <td>24.9</td>\n",
       "    </tr>\n",
       "    <tr>\n",
       "      <th>sat_18_participation</th>\n",
       "      <td>51.0</td>\n",
       "      <td>0.466275</td>\n",
       "      <td>0.380142</td>\n",
       "      <td>0.02</td>\n",
       "      <td>0.045</td>\n",
       "      <td>0.52</td>\n",
       "      <td>0.795</td>\n",
       "      <td>1.0</td>\n",
       "    </tr>\n",
       "    <tr>\n",
       "      <th>sat_18_erw</th>\n",
       "      <td>51.0</td>\n",
       "      <td>567.294118</td>\n",
       "      <td>45.317676</td>\n",
       "      <td>497.00</td>\n",
       "      <td>535.000</td>\n",
       "      <td>552.00</td>\n",
       "      <td>616.500</td>\n",
       "      <td>643.0</td>\n",
       "    </tr>\n",
       "    <tr>\n",
       "      <th>sat_18_math</th>\n",
       "      <td>51.0</td>\n",
       "      <td>557.254902</td>\n",
       "      <td>48.887562</td>\n",
       "      <td>480.00</td>\n",
       "      <td>521.500</td>\n",
       "      <td>547.00</td>\n",
       "      <td>600.500</td>\n",
       "      <td>655.0</td>\n",
       "    </tr>\n",
       "    <tr>\n",
       "      <th>sat_18_total</th>\n",
       "      <td>51.0</td>\n",
       "      <td>1124.666667</td>\n",
       "      <td>93.867069</td>\n",
       "      <td>977.00</td>\n",
       "      <td>1062.500</td>\n",
       "      <td>1099.00</td>\n",
       "      <td>1220.000</td>\n",
       "      <td>1298.0</td>\n",
       "    </tr>\n",
       "    <tr>\n",
       "      <th>act_17_participation</th>\n",
       "      <td>51.0</td>\n",
       "      <td>0.652549</td>\n",
       "      <td>0.321408</td>\n",
       "      <td>0.08</td>\n",
       "      <td>0.310</td>\n",
       "      <td>0.69</td>\n",
       "      <td>1.000</td>\n",
       "      <td>1.0</td>\n",
       "    </tr>\n",
       "    <tr>\n",
       "      <th>act_17_english</th>\n",
       "      <td>51.0</td>\n",
       "      <td>20.931373</td>\n",
       "      <td>2.353677</td>\n",
       "      <td>16.30</td>\n",
       "      <td>19.000</td>\n",
       "      <td>20.70</td>\n",
       "      <td>23.300</td>\n",
       "      <td>25.5</td>\n",
       "    </tr>\n",
       "    <tr>\n",
       "      <th>act_17_math</th>\n",
       "      <td>51.0</td>\n",
       "      <td>21.182353</td>\n",
       "      <td>1.981989</td>\n",
       "      <td>18.00</td>\n",
       "      <td>19.400</td>\n",
       "      <td>20.90</td>\n",
       "      <td>23.100</td>\n",
       "      <td>25.3</td>\n",
       "    </tr>\n",
       "    <tr>\n",
       "      <th>act_17_reading</th>\n",
       "      <td>51.0</td>\n",
       "      <td>22.013725</td>\n",
       "      <td>2.067271</td>\n",
       "      <td>18.10</td>\n",
       "      <td>20.450</td>\n",
       "      <td>21.80</td>\n",
       "      <td>24.150</td>\n",
       "      <td>26.0</td>\n",
       "    </tr>\n",
       "    <tr>\n",
       "      <th>act_17_science</th>\n",
       "      <td>51.0</td>\n",
       "      <td>21.450980</td>\n",
       "      <td>1.739353</td>\n",
       "      <td>18.20</td>\n",
       "      <td>19.950</td>\n",
       "      <td>21.30</td>\n",
       "      <td>23.200</td>\n",
       "      <td>24.9</td>\n",
       "    </tr>\n",
       "    <tr>\n",
       "      <th>act_17_composite</th>\n",
       "      <td>51.0</td>\n",
       "      <td>21.519608</td>\n",
       "      <td>2.020695</td>\n",
       "      <td>17.80</td>\n",
       "      <td>19.800</td>\n",
       "      <td>21.40</td>\n",
       "      <td>23.600</td>\n",
       "      <td>25.5</td>\n",
       "    </tr>\n",
       "    <tr>\n",
       "      <th>sat_17_participation</th>\n",
       "      <td>51.0</td>\n",
       "      <td>0.398039</td>\n",
       "      <td>0.352766</td>\n",
       "      <td>0.02</td>\n",
       "      <td>0.040</td>\n",
       "      <td>0.38</td>\n",
       "      <td>0.660</td>\n",
       "      <td>1.0</td>\n",
       "    </tr>\n",
       "    <tr>\n",
       "      <th>sat_17_erw</th>\n",
       "      <td>51.0</td>\n",
       "      <td>569.117647</td>\n",
       "      <td>45.666901</td>\n",
       "      <td>482.00</td>\n",
       "      <td>533.500</td>\n",
       "      <td>559.00</td>\n",
       "      <td>613.000</td>\n",
       "      <td>644.0</td>\n",
       "    </tr>\n",
       "    <tr>\n",
       "      <th>sat_17_math</th>\n",
       "      <td>51.0</td>\n",
       "      <td>556.882353</td>\n",
       "      <td>47.121395</td>\n",
       "      <td>468.00</td>\n",
       "      <td>523.500</td>\n",
       "      <td>548.00</td>\n",
       "      <td>599.000</td>\n",
       "      <td>651.0</td>\n",
       "    </tr>\n",
       "    <tr>\n",
       "      <th>sat_17_total</th>\n",
       "      <td>51.0</td>\n",
       "      <td>1126.000000</td>\n",
       "      <td>92.487621</td>\n",
       "      <td>950.00</td>\n",
       "      <td>1055.500</td>\n",
       "      <td>1106.00</td>\n",
       "      <td>1211.500</td>\n",
       "      <td>1295.0</td>\n",
       "    </tr>\n",
       "  </tbody>\n",
       "</table>\n",
       "</div>"
      ],
      "text/plain": [
       "                      count         mean        std     min       25%  \\\n",
       "act_18_participation   51.0     0.616471   0.340810    0.07     0.285   \n",
       "act_18_composite       51.0    21.486275   2.106278   17.70    19.950   \n",
       "act_18_english         51.0    20.988235   2.446356   16.60    19.100   \n",
       "act_18_math            51.0    21.125490   2.035765   17.80    19.400   \n",
       "act_18_reading         51.0    22.015686   2.167245   18.00    20.450   \n",
       "act_18_science         51.0    21.345098   1.870114   17.90    19.850   \n",
       "sat_18_participation   51.0     0.466275   0.380142    0.02     0.045   \n",
       "sat_18_erw             51.0   567.294118  45.317676  497.00   535.000   \n",
       "sat_18_math            51.0   557.254902  48.887562  480.00   521.500   \n",
       "sat_18_total           51.0  1124.666667  93.867069  977.00  1062.500   \n",
       "act_17_participation   51.0     0.652549   0.321408    0.08     0.310   \n",
       "act_17_english         51.0    20.931373   2.353677   16.30    19.000   \n",
       "act_17_math            51.0    21.182353   1.981989   18.00    19.400   \n",
       "act_17_reading         51.0    22.013725   2.067271   18.10    20.450   \n",
       "act_17_science         51.0    21.450980   1.739353   18.20    19.950   \n",
       "act_17_composite       51.0    21.519608   2.020695   17.80    19.800   \n",
       "sat_17_participation   51.0     0.398039   0.352766    0.02     0.040   \n",
       "sat_17_erw             51.0   569.117647  45.666901  482.00   533.500   \n",
       "sat_17_math            51.0   556.882353  47.121395  468.00   523.500   \n",
       "sat_17_total           51.0  1126.000000  92.487621  950.00  1055.500   \n",
       "\n",
       "                          50%       75%     max  \n",
       "act_18_participation     0.66     1.000     1.0  \n",
       "act_18_composite        21.30    23.550    25.6  \n",
       "act_18_english          20.20    23.700    26.0  \n",
       "act_18_math             20.70    23.150    25.2  \n",
       "act_18_reading          21.60    24.100    26.1  \n",
       "act_18_science          21.10    23.050    24.9  \n",
       "sat_18_participation     0.52     0.795     1.0  \n",
       "sat_18_erw             552.00   616.500   643.0  \n",
       "sat_18_math            547.00   600.500   655.0  \n",
       "sat_18_total          1099.00  1220.000  1298.0  \n",
       "act_17_participation     0.69     1.000     1.0  \n",
       "act_17_english          20.70    23.300    25.5  \n",
       "act_17_math             20.90    23.100    25.3  \n",
       "act_17_reading          21.80    24.150    26.0  \n",
       "act_17_science          21.30    23.200    24.9  \n",
       "act_17_composite        21.40    23.600    25.5  \n",
       "sat_17_participation     0.38     0.660     1.0  \n",
       "sat_17_erw             559.00   613.000   644.0  \n",
       "sat_17_math            548.00   599.000   651.0  \n",
       "sat_17_total          1106.00  1211.500  1295.0  "
      ]
     },
     "execution_count": 116,
     "metadata": {},
     "output_type": "execute_result"
    }
   ],
   "source": [
    "final.describe().transpose()"
   ]
  },
  {
   "cell_type": "markdown",
   "metadata": {
    "slideshow": {
     "slide_type": "slide"
    }
   },
   "source": [
    "#### Define a custom function to subplot histograms\n",
    "\n",
    "We have data for two tests for two years. We only have composite (and not subtest scores) for the 2018 ACT. We should write a function that will take the names of 2+ columns and subplot histograms. While you can use pandas plotting or Seaborn here, matplotlib gives you greater control over all aspects of your plots.\n",
    "\n",
    "[Helpful Link for Plotting Multiple Figures](https://matplotlib.org/users/pyplot_tutorial.html#working-with-multiple-figures-and-axes)\n",
    "\n",
    "Here's some starter code:"
   ]
  },
  {
   "cell_type": "code",
   "execution_count": 117,
   "metadata": {
    "slideshow": {
     "slide_type": "slide"
    }
   },
   "outputs": [],
   "source": [
    "def subplot_histograms(df,list_of_titles, list_of_xlabels):\n",
    "    ncols = 2\n",
    "    nrows = int(np.ceil(len(df.columns) / (1.0*ncols)))\n",
    "    fig, axes = plt.subplots(nrows=nrows, ncols=ncols, figsize=(15, 15))\n",
    "    counter = 0\n",
    "    for i in range(nrows):\n",
    "        for j in range(ncols):\n",
    "            ax = axes[i][j]  \n",
    "            if counter < len(df.columns):      # Plot when we have data\n",
    "                ax.hist(df[df.columns[counter]], bins=20)\n",
    "                ax.set_xlabel(list_of_xlabels[counter])\n",
    "                ax.set_title(list_of_titles[counter])\n",
    "                ax.set_ylabel('Count of number of states')\n",
    "        # Remove axis when we no longer have data\n",
    "            else:\n",
    "                ax.set_axis_off()\n",
    "\n",
    "            counter += 1\n",
    "    plt.tight_layout()\n",
    "    plt.show()\n",
    "\n",
    "\n",
    "#def subplot_histograms(dataframe, list_of_columns, list_of_titles, list_of_xlabels):\n",
    "#    nrows = int(np.ceil(len(list_of_columns)/2) # Makes sure you have enough rows\n",
    "#    fig, ax = plt.subplots(nrows=nrows, ncols=2) # You'll want to specify your figsize\n",
    "#    ax = ax.ravel() # Ravel turns a matrix into a vector, which is easier to iterate\n",
    "#    for i, column in enumerate(list_of_columns): # Gives us an index value to get into all our lists\n",
    "#        ax[i].hist(dataframe[column]) # feel free to add more settings\n",
    "#        # Set titles, labels, etc here for each subplot"
   ]
  },
  {
   "cell_type": "code",
   "execution_count": 118,
   "metadata": {
    "slideshow": {
     "slide_type": "slide"
    }
   },
   "outputs": [
    {
     "data": {
      "image/png": "[encoded data removed]",
      "text/plain": [
       "<Figure size 1080x1080 with 6 Axes>"
      ]
     },
     "metadata": {
      "needs_background": "light"
     },
     "output_type": "display_data"
    }
   ],
   "source": [
    "subplot_histograms(final[[\"act_17_math\",'act_17_reading','act_17_composite','act_17_science','act_17_english']],\n",
    "                   ['2017 ACT Math scores', '2017 ACT Reading Scores','2017 ACT Composite scores', '2017 ACT Science scores', '2017 ACT English scores'],\n",
    "                  ['Score', 'Score', 'Score', 'Score', 'Score'])"
   ]
  },
  {
   "cell_type": "markdown",
   "metadata": {
    "slideshow": {
     "slide_type": "slide"
    }
   },
   "source": [
    "#### Plot and interpret histograms \n",
    "For each of the following:\n",
    "- Participation rates for SAT & ACT\n",
    "- Math scores for SAT & ACT\n",
    "- Reading/verbal scores for SAT & ACT"
   ]
  },
  {
   "cell_type": "code",
   "execution_count": 119,
   "metadata": {
    "slideshow": {
     "slide_type": "slide"
    }
   },
   "outputs": [
    {
     "data": {
      "image/png": "[encoded data removed]",
      "text/plain": [
       "<Figure size 1080x1080 with 4 Axes>"
      ]
     },
     "metadata": {
      "needs_background": "light"
     },
     "output_type": "display_data"
    }
   ],
   "source": [
    "# Code\n",
    "subplot_histograms(final[[\"act_17_participation\",'act_18_participation','sat_17_participation','sat_18_participation']],\n",
    "                  [\"2017 ACT participation rates\",'2018 ACT participation rates','2017 SAT participation rates','2018 SAT participation rates'],\n",
    "                  [\"Percentage in float\",\"Percentage in float\",\"Percentage in float\",\"Percentage in float\"])"
   ]
  },
  {
   "cell_type": "code",
   "execution_count": 217,
   "metadata": {
    "slideshow": {
     "slide_type": "slide"
    }
   },
   "outputs": [
    {
     "data": {
      "image/png": "[encoded data removed]",
      "text/plain": [
       "<Figure size 1080x1080 with 4 Axes>"
      ]
     },
     "metadata": {
      "needs_background": "light"
     },
     "output_type": "display_data"
    }
   ],
   "source": [
    "subplot_histograms(final[[\"act_17_math\",'act_18_math','sat_17_math','sat_18_math']],\n",
    "                  [\"2017 ACT Math scores\",'2018 ACT Math scores','2017 SAT Math scores','2018 SAT Math scores'],\n",
    "                  ['Score','Score','Score','Score'])"
   ]
  },
  {
   "cell_type": "code",
   "execution_count": 120,
   "metadata": {
    "slideshow": {
     "slide_type": "slide"
    }
   },
   "outputs": [
    {
     "data": {
      "image/png": "[encoded data removed]",
      "text/plain": [
       "<Figure size 1080x1080 with 4 Axes>"
      ]
     },
     "metadata": {
      "needs_background": "light"
     },
     "output_type": "display_data"
    }
   ],
   "source": [
    "subplot_histograms(final[[\"act_17_reading\",'act_18_reading','sat_17_erw','sat_18_erw']],\n",
    "                  [\"2017 ACT Reading scores\",'2018 ACT Reading scores','2017 SAT ERW scores','2018 SAT ERW scores'],\n",
    "                  ['Score','Score','Score','Score'])"
   ]
  },
  {
   "cell_type": "markdown",
   "metadata": {
    "slideshow": {
     "slide_type": "slide"
    }
   },
   "source": [
    "#### Plot and interpret scatter plots\n",
    "\n",
    "For each of the following:\n",
    "- SAT vs. ACT math scores for 2017\n",
    "- SAT vs. ACT verbal/reading scores for 2017\n",
    "- SAT vs. ACT total/composite scores for 2017\n",
    "- Total scores for SAT 2017 vs. 2018\n",
    "- Composite scores for ACT 2017 vs. 2018\n",
    "\n",
    "Plot the two variables against each other using matplotlib or Seaborn\n",
    "\n",
    "Your plots should show:\n",
    "- Two clearly labeled axes\n",
    "- A proper title\n",
    "- Using colors and symbols that are clear and unmistakable\n",
    "\n",
    "**Feel free to write a custom function, and subplot if you'd like.** Functions save both time and space.\n"
   ]
  },
  {
   "cell_type": "code",
   "execution_count": 121,
   "metadata": {
    "slideshow": {
     "slide_type": "slide"
    }
   },
   "outputs": [],
   "source": [
    "# Code\n",
    "def subplot_scatter(x,y,label):\n",
    "    ax = plt.axes()\n",
    "    sns.scatterplot(x , y)\n",
    "    ax.set_title(label)\n",
    "    plt.show()"
   ]
  },
  {
   "cell_type": "code",
   "execution_count": 122,
   "metadata": {
    "slideshow": {
     "slide_type": "slide"
    }
   },
   "outputs": [
    {
     "data": {
      "image/png": "[encoded data removed]",
      "text/plain": [
       "<Figure size 432x288 with 1 Axes>"
      ]
     },
     "metadata": {
      "needs_background": "light"
     },
     "output_type": "display_data"
    }
   ],
   "source": [
    "subplot_scatter(final.act_17_math, final.sat_17_math, label = \"SAT vs ACT math scores for 2017\")"
   ]
  },
  {
   "cell_type": "code",
   "execution_count": 123,
   "metadata": {
    "slideshow": {
     "slide_type": "slide"
    }
   },
   "outputs": [
    {
     "data": {
      "image/png": "[encoded data removed]",
      "text/plain": [
       "<Figure size 432x288 with 1 Axes>"
      ]
     },
     "metadata": {
      "needs_background": "light"
     },
     "output_type": "display_data"
    }
   ],
   "source": [
    "subplot_scatter(final.sat_17_erw, final.act_17_reading,\"SAT vs. ACT verbal/reading scores for 2017\")"
   ]
  },
  {
   "cell_type": "code",
   "execution_count": 124,
   "metadata": {
    "slideshow": {
     "slide_type": "slide"
    }
   },
   "outputs": [
    {
     "data": {
      "image/png": "[encoded data removed]",
      "text/plain": [
       "<Figure size 432x288 with 1 Axes>"
      ]
     },
     "metadata": {
      "needs_background": "light"
     },
     "output_type": "display_data"
    }
   ],
   "source": [
    "subplot_scatter(final.sat_17_total, final.act_17_composite,'SAT vs. ACT total/composite scores for 2017')"
   ]
  },
  {
   "cell_type": "code",
   "execution_count": 125,
   "metadata": {
    "slideshow": {
     "slide_type": "slide"
    }
   },
   "outputs": [
    {
     "data": {
      "image/png": "[encoded data removed]",
      "text/plain": [
       "<Figure size 432x288 with 1 Axes>"
      ]
     },
     "metadata": {
      "needs_background": "light"
     },
     "output_type": "display_data"
    }
   ],
   "source": [
    "subplot_scatter(final.sat_17_total,final.sat_18_total,'Total scores for SAT 2017 vs. 2018')"
   ]
  },
  {
   "cell_type": "code",
   "execution_count": 126,
   "metadata": {
    "slideshow": {
     "slide_type": "slide"
    }
   },
   "outputs": [
    {
     "data": {
      "image/png": "[encoded data removed]",
      "text/plain": [
       "<Figure size 432x288 with 1 Axes>"
      ]
     },
     "metadata": {
      "needs_background": "light"
     },
     "output_type": "display_data"
    }
   ],
   "source": [
    "subplot_scatter(final.act_17_composite,final.act_18_composite,'Composite scores for ACT 2017 vs. 2018')"
   ]
  },
  {
   "cell_type": "markdown",
   "metadata": {
    "slideshow": {
     "slide_type": "slide"
    }
   },
   "source": [
    "#### Plot and interpret boxplots\n",
    "\n",
    "For each numeric variable in the dataframe create a boxplot using Seaborn. Boxplots demonstrate central tendency and spread in variables. In a certain sense, these are somewhat redundant with histograms, but you may be better able to identify clear outliers or differences in IQR, etc.\n",
    "\n",
    "Multiple values can be plotted to a single boxplot as long as they are of the same relative scale (meaning they have similar min/max values).\n",
    "\n",
    "Each boxplot should:\n",
    "- Only include variables of a similar scale\n",
    "- Have clear labels for each variable\n",
    "- Have appropriate titles and labels"
   ]
  },
  {
   "cell_type": "code",
   "execution_count": 127,
   "metadata": {
    "scrolled": true,
    "slideshow": {
     "slide_type": "skip"
    }
   },
   "outputs": [
    {
     "data": {
      "text/plain": [
       "Index(['State', 'act_18_participation', 'act_18_composite', 'act_18_english',\n",
       "       'act_18_math', 'act_18_reading', 'act_18_science',\n",
       "       'sat_18_participation', 'sat_18_erw', 'sat_18_math', 'sat_18_total',\n",
       "       'act_17_participation', 'act_17_english', 'act_17_math',\n",
       "       'act_17_reading', 'act_17_science', 'act_17_composite',\n",
       "       'sat_17_participation', 'sat_17_erw', 'sat_17_math', 'sat_17_total'],\n",
       "      dtype='object')"
      ]
     },
     "execution_count": 127,
     "metadata": {},
     "output_type": "execute_result"
    }
   ],
   "source": [
    "# Code\n",
    "final.columns"
   ]
  },
  {
   "cell_type": "code",
   "execution_count": 42,
   "metadata": {
    "slideshow": {
     "slide_type": "slide"
    }
   },
   "outputs": [
    {
     "data": {
      "image/png": "[encoded data removed]",
      "text/plain": [
       "<Figure size 1152x720 with 6 Axes>"
      ]
     },
     "metadata": {
      "needs_background": "light"
     },
     "output_type": "display_data"
    }
   ],
   "source": [
    "figure, ax = plt.subplots(nrows=3, ncols=2, figsize=(16, 10))\n",
    "\n",
    "for i in range(2):\n",
    "    for j in range(2):\n",
    "        ax[i,j].set_ylabel('Score')    \n",
    "ax[2,0].set_ylabel('Participation Rate')\n",
    "\n",
    "# ACT 17 and ACT 18\n",
    "\n",
    "sns.boxplot(data = final[['act_17_english','act_17_math','act_17_reading', 'act_17_science', 'act_17_composite']],\\\n",
    "            ax=ax[0, 0]).set_title('2017 ACT scores')\n",
    "\n",
    "sns.boxplot(data = final[['act_18_english', 'act_18_math', 'act_18_reading', 'act_18_science', 'act_18_composite']],\\\n",
    "            ax=ax[0, 1]).set_title('2018 ACT scores')\n",
    "\n",
    "# SAT 17 and SAT 18\n",
    "sns.boxplot(data = final[['sat_18_erw', 'sat_18_math', 'sat_17_erw', 'sat_17_math']],\\\n",
    "            ax=ax[1, 1]).set_title('2017 and 2018 SAT individual scores')\n",
    "sns.boxplot(data = final[['sat_18_total', 'sat_17_total']],\\\n",
    "            ax=ax[1, 0],width = 0.2).set_title('2017 and 2018 SAT total scores')\n",
    "\n",
    "# SAT and ACT participation rates\n",
    "sns.boxplot(data = final[['sat_17_participation', 'sat_18_participation', 'act_17_participation', 'act_18_participation']],\\\n",
    "            ax=ax[2, 0],width = 0.4).set_title('SAT and ACT participation rates')\n",
    "ax[2,1].set_axis_off()\n",
    "figure.tight_layout() ## this will pad your figures slightly\n"
   ]
  },
  {
   "cell_type": "markdown",
   "metadata": {
    "slideshow": {
     "slide_type": "skip"
    }
   },
   "source": [
    "#### Feel free to do additional plots below\n",
    "*(do research and choose your own chart types & variables)*\n",
    "\n",
    "Are there any additional trends or relationships you haven't explored? Was there something interesting you saw that you'd like to dive further into? It's likely that there are a few more plots you might want to generate to support your narrative and recommendations that you are building toward. **As always, make sure you're interpreting your plots as you go**."
   ]
  },
  {
   "cell_type": "code",
   "execution_count": 85,
   "metadata": {
    "slideshow": {
     "slide_type": "skip"
    }
   },
   "outputs": [
    {
     "data": {
      "image/png": "[encoded data removed]",
      "text/plain": [
       "<Figure size 360x360 with 1 Axes>"
      ]
     },
     "metadata": {
      "needs_background": "light"
     },
     "output_type": "display_data"
    },
    {
     "data": {
      "image/png": "[encoded data removed]",
      "text/plain": [
       "<Figure size 360x360 with 1 Axes>"
      ]
     },
     "metadata": {
      "needs_background": "light"
     },
     "output_type": "display_data"
    }
   ],
   "source": [
    "##graph for differences > 90 (1 s.d) for SAT total scores\n",
    "width = 0.4\n",
    "fig, ax = plt.subplots(figsize=(5, 5))\n",
    "indices = np.arange(len(final[abs(final[\"sat_difference\"])>90]))\n",
    "\n",
    "plt.bar(indices, final.sat_18_total[abs(final[\"sat_difference\"])>90], width=width, \n",
    "        color='b', label='2018 SAT total scores')\n",
    "plt.bar([i+0.25*width for i in indices], final.sat_17_total[abs(final[\"sat_difference\"])>90], \n",
    "        width=0.5*width, color='r', alpha=0.5, label='2017 SAT total scores')\n",
    "\n",
    "plt.xticks(indices, \n",
    "           [i for i in final.State[abs(final[\"sat_difference\"])>90]])\n",
    "plt.ylim(900,1250)\n",
    "plt.yticks(np.linspace(1000,1250,3))\n",
    "plt.legend()\n",
    "\n",
    "##graph for differences > 2 (1 s.d) for ACT composite scores\n",
    "\n",
    "fig, ax = plt.subplots(figsize=(5, 5))\n",
    "indices = np.arange(len(final[abs(final[\"act_difference\"])>2]))\n",
    "\n",
    "plt.bar(indices, final.act_18_composite[abs(final[\"act_difference\"])>2], width=width, \n",
    "        color='b', label='2018 ACT composite scores')\n",
    "plt.bar([i+0.25*width for i in indices], final.act_17_composite[abs(final[\"act_difference\"])>2], \n",
    "        width=0.5*width, color='r', alpha=0.5, label='2017 ACT composite scores')\n",
    "\n",
    "plt.xticks(indices, \n",
    "           [i for i in final.State[abs(final[\"act_difference\"])>2]])\n",
    "plt.ylim(18,25)\n",
    "plt.yticks(np.linspace(18,25,3))\n",
    "plt.legend()\n",
    "plt.show()"
   ]
  },
  {
   "cell_type": "markdown",
   "metadata": {
    "slideshow": {
     "slide_type": "skip"
    }
   },
   "source": [
    "#### (Optional): Using Tableau, create a choropleth map for each variable using a map of the US. \n",
    "\n",
    "Save this plot as an image file in an images directory, provide a relative path, and insert the image into notebook in markdown."
   ]
  },
  {
   "cell_type": "code",
   "execution_count": null,
   "metadata": {
    "slideshow": {
     "slide_type": "skip"
    }
   },
   "outputs": [],
   "source": []
  },
  {
   "cell_type": "markdown",
   "metadata": {
    "slideshow": {
     "slide_type": "slide"
    }
   },
   "source": [
    "## Descriptive and Inferential Statistics"
   ]
  },
  {
   "cell_type": "markdown",
   "metadata": {
    "slideshow": {
     "slide_type": "slide"
    }
   },
   "source": [
    "#### Summarizing Distributions\n",
    "\n",
    "Above, we used pandas `describe` to provide quick summary statistics of our numeric columns. We also demonstrated many visual relationships.\n",
    "\n",
    "As data scientists, having a complete understanding of data is imperative prior to modeling.\n",
    "\n",
    "While we will continue to build our analytic tools, we know that measures of *central tendency*, *spread*, and *shape/skewness* provide a quick summary of distributions.\n",
    "\n",
    "For each variable in your data, summarize the underlying distributions (in words & statistics)\n",
    " - Be thorough in your verbal description of these distributions.\n",
    " - Be sure to back up these summaries with statistics."
   ]
  },
  {
   "cell_type": "code",
   "execution_count": 32,
   "metadata": {
    "scrolled": false,
    "slideshow": {
     "slide_type": "slide"
    }
   },
   "outputs": [
    {
     "data": {
      "text/html": [
       "<div>\n",
       "<style scoped>\n",
       "    .dataframe tbody tr th:only-of-type {\n",
       "        vertical-align: middle;\n",
       "    }\n",
       "\n",
       "    .dataframe tbody tr th {\n",
       "        vertical-align: top;\n",
       "    }\n",
       "\n",
       "    .dataframe thead th {\n",
       "        text-align: right;\n",
       "    }\n",
       "</style>\n",
       "<table border=\"1\" class=\"dataframe\">\n",
       "  <thead>\n",
       "    <tr style=\"text-align: right;\">\n",
       "      <th></th>\n",
       "      <th>count</th>\n",
       "      <th>mean</th>\n",
       "      <th>std</th>\n",
       "      <th>min</th>\n",
       "      <th>25%</th>\n",
       "      <th>50%</th>\n",
       "      <th>75%</th>\n",
       "      <th>max</th>\n",
       "    </tr>\n",
       "  </thead>\n",
       "  <tbody>\n",
       "    <tr>\n",
       "      <th>act_18_participation</th>\n",
       "      <td>51.0</td>\n",
       "      <td>0.616471</td>\n",
       "      <td>0.340810</td>\n",
       "      <td>0.07</td>\n",
       "      <td>0.285</td>\n",
       "      <td>0.66</td>\n",
       "      <td>1.000</td>\n",
       "      <td>1.0</td>\n",
       "    </tr>\n",
       "    <tr>\n",
       "      <th>act_18_composite</th>\n",
       "      <td>51.0</td>\n",
       "      <td>21.486275</td>\n",
       "      <td>2.106278</td>\n",
       "      <td>17.70</td>\n",
       "      <td>19.950</td>\n",
       "      <td>21.30</td>\n",
       "      <td>23.550</td>\n",
       "      <td>25.6</td>\n",
       "    </tr>\n",
       "    <tr>\n",
       "      <th>act_18_english</th>\n",
       "      <td>51.0</td>\n",
       "      <td>20.988235</td>\n",
       "      <td>2.446356</td>\n",
       "      <td>16.60</td>\n",
       "      <td>19.100</td>\n",
       "      <td>20.20</td>\n",
       "      <td>23.700</td>\n",
       "      <td>26.0</td>\n",
       "    </tr>\n",
       "    <tr>\n",
       "      <th>act_18_math</th>\n",
       "      <td>51.0</td>\n",
       "      <td>21.125490</td>\n",
       "      <td>2.035765</td>\n",
       "      <td>17.80</td>\n",
       "      <td>19.400</td>\n",
       "      <td>20.70</td>\n",
       "      <td>23.150</td>\n",
       "      <td>25.2</td>\n",
       "    </tr>\n",
       "    <tr>\n",
       "      <th>act_18_reading</th>\n",
       "      <td>51.0</td>\n",
       "      <td>22.015686</td>\n",
       "      <td>2.167245</td>\n",
       "      <td>18.00</td>\n",
       "      <td>20.450</td>\n",
       "      <td>21.60</td>\n",
       "      <td>24.100</td>\n",
       "      <td>26.1</td>\n",
       "    </tr>\n",
       "    <tr>\n",
       "      <th>act_18_science</th>\n",
       "      <td>51.0</td>\n",
       "      <td>21.345098</td>\n",
       "      <td>1.870114</td>\n",
       "      <td>17.90</td>\n",
       "      <td>19.850</td>\n",
       "      <td>21.10</td>\n",
       "      <td>23.050</td>\n",
       "      <td>24.9</td>\n",
       "    </tr>\n",
       "    <tr>\n",
       "      <th>sat_18_participation</th>\n",
       "      <td>51.0</td>\n",
       "      <td>0.466275</td>\n",
       "      <td>0.380142</td>\n",
       "      <td>0.02</td>\n",
       "      <td>0.045</td>\n",
       "      <td>0.52</td>\n",
       "      <td>0.795</td>\n",
       "      <td>1.0</td>\n",
       "    </tr>\n",
       "    <tr>\n",
       "      <th>sat_18_erw</th>\n",
       "      <td>51.0</td>\n",
       "      <td>567.294118</td>\n",
       "      <td>45.317676</td>\n",
       "      <td>497.00</td>\n",
       "      <td>535.000</td>\n",
       "      <td>552.00</td>\n",
       "      <td>616.500</td>\n",
       "      <td>643.0</td>\n",
       "    </tr>\n",
       "    <tr>\n",
       "      <th>sat_18_math</th>\n",
       "      <td>51.0</td>\n",
       "      <td>557.254902</td>\n",
       "      <td>48.887562</td>\n",
       "      <td>480.00</td>\n",
       "      <td>521.500</td>\n",
       "      <td>547.00</td>\n",
       "      <td>600.500</td>\n",
       "      <td>655.0</td>\n",
       "    </tr>\n",
       "    <tr>\n",
       "      <th>sat_18_total</th>\n",
       "      <td>51.0</td>\n",
       "      <td>1124.666667</td>\n",
       "      <td>93.867069</td>\n",
       "      <td>977.00</td>\n",
       "      <td>1062.500</td>\n",
       "      <td>1099.00</td>\n",
       "      <td>1220.000</td>\n",
       "      <td>1298.0</td>\n",
       "    </tr>\n",
       "    <tr>\n",
       "      <th>act_17_participation</th>\n",
       "      <td>51.0</td>\n",
       "      <td>0.652549</td>\n",
       "      <td>0.321408</td>\n",
       "      <td>0.08</td>\n",
       "      <td>0.310</td>\n",
       "      <td>0.69</td>\n",
       "      <td>1.000</td>\n",
       "      <td>1.0</td>\n",
       "    </tr>\n",
       "    <tr>\n",
       "      <th>act_17_english</th>\n",
       "      <td>51.0</td>\n",
       "      <td>20.931373</td>\n",
       "      <td>2.353677</td>\n",
       "      <td>16.30</td>\n",
       "      <td>19.000</td>\n",
       "      <td>20.70</td>\n",
       "      <td>23.300</td>\n",
       "      <td>25.5</td>\n",
       "    </tr>\n",
       "    <tr>\n",
       "      <th>act_17_math</th>\n",
       "      <td>51.0</td>\n",
       "      <td>21.182353</td>\n",
       "      <td>1.981989</td>\n",
       "      <td>18.00</td>\n",
       "      <td>19.400</td>\n",
       "      <td>20.90</td>\n",
       "      <td>23.100</td>\n",
       "      <td>25.3</td>\n",
       "    </tr>\n",
       "    <tr>\n",
       "      <th>act_17_reading</th>\n",
       "      <td>51.0</td>\n",
       "      <td>22.013725</td>\n",
       "      <td>2.067271</td>\n",
       "      <td>18.10</td>\n",
       "      <td>20.450</td>\n",
       "      <td>21.80</td>\n",
       "      <td>24.150</td>\n",
       "      <td>26.0</td>\n",
       "    </tr>\n",
       "    <tr>\n",
       "      <th>act_17_science</th>\n",
       "      <td>51.0</td>\n",
       "      <td>21.450980</td>\n",
       "      <td>1.739353</td>\n",
       "      <td>18.20</td>\n",
       "      <td>19.950</td>\n",
       "      <td>21.30</td>\n",
       "      <td>23.200</td>\n",
       "      <td>24.9</td>\n",
       "    </tr>\n",
       "    <tr>\n",
       "      <th>act_17_composite</th>\n",
       "      <td>51.0</td>\n",
       "      <td>21.519608</td>\n",
       "      <td>2.020695</td>\n",
       "      <td>17.80</td>\n",
       "      <td>19.800</td>\n",
       "      <td>21.40</td>\n",
       "      <td>23.600</td>\n",
       "      <td>25.5</td>\n",
       "    </tr>\n",
       "    <tr>\n",
       "      <th>sat_17_participation</th>\n",
       "      <td>51.0</td>\n",
       "      <td>0.398039</td>\n",
       "      <td>0.352766</td>\n",
       "      <td>0.02</td>\n",
       "      <td>0.040</td>\n",
       "      <td>0.38</td>\n",
       "      <td>0.660</td>\n",
       "      <td>1.0</td>\n",
       "    </tr>\n",
       "    <tr>\n",
       "      <th>sat_17_erw</th>\n",
       "      <td>51.0</td>\n",
       "      <td>569.117647</td>\n",
       "      <td>45.666901</td>\n",
       "      <td>482.00</td>\n",
       "      <td>533.500</td>\n",
       "      <td>559.00</td>\n",
       "      <td>613.000</td>\n",
       "      <td>644.0</td>\n",
       "    </tr>\n",
       "    <tr>\n",
       "      <th>sat_17_math</th>\n",
       "      <td>51.0</td>\n",
       "      <td>556.882353</td>\n",
       "      <td>47.121395</td>\n",
       "      <td>468.00</td>\n",
       "      <td>523.500</td>\n",
       "      <td>548.00</td>\n",
       "      <td>599.000</td>\n",
       "      <td>651.0</td>\n",
       "    </tr>\n",
       "    <tr>\n",
       "      <th>sat_17_total</th>\n",
       "      <td>51.0</td>\n",
       "      <td>1126.000000</td>\n",
       "      <td>92.487621</td>\n",
       "      <td>950.00</td>\n",
       "      <td>1055.500</td>\n",
       "      <td>1106.00</td>\n",
       "      <td>1211.500</td>\n",
       "      <td>1295.0</td>\n",
       "    </tr>\n",
       "  </tbody>\n",
       "</table>\n",
       "</div>"
      ],
      "text/plain": [
       "                      count         mean        std     min       25%  \\\n",
       "act_18_participation   51.0     0.616471   0.340810    0.07     0.285   \n",
       "act_18_composite       51.0    21.486275   2.106278   17.70    19.950   \n",
       "act_18_english         51.0    20.988235   2.446356   16.60    19.100   \n",
       "act_18_math            51.0    21.125490   2.035765   17.80    19.400   \n",
       "act_18_reading         51.0    22.015686   2.167245   18.00    20.450   \n",
       "act_18_science         51.0    21.345098   1.870114   17.90    19.850   \n",
       "sat_18_participation   51.0     0.466275   0.380142    0.02     0.045   \n",
       "sat_18_erw             51.0   567.294118  45.317676  497.00   535.000   \n",
       "sat_18_math            51.0   557.254902  48.887562  480.00   521.500   \n",
       "sat_18_total           51.0  1124.666667  93.867069  977.00  1062.500   \n",
       "act_17_participation   51.0     0.652549   0.321408    0.08     0.310   \n",
       "act_17_english         51.0    20.931373   2.353677   16.30    19.000   \n",
       "act_17_math            51.0    21.182353   1.981989   18.00    19.400   \n",
       "act_17_reading         51.0    22.013725   2.067271   18.10    20.450   \n",
       "act_17_science         51.0    21.450980   1.739353   18.20    19.950   \n",
       "act_17_composite       51.0    21.519608   2.020695   17.80    19.800   \n",
       "sat_17_participation   51.0     0.398039   0.352766    0.02     0.040   \n",
       "sat_17_erw             51.0   569.117647  45.666901  482.00   533.500   \n",
       "sat_17_math            51.0   556.882353  47.121395  468.00   523.500   \n",
       "sat_17_total           51.0  1126.000000  92.487621  950.00  1055.500   \n",
       "\n",
       "                          50%       75%     max  \n",
       "act_18_participation     0.66     1.000     1.0  \n",
       "act_18_composite        21.30    23.550    25.6  \n",
       "act_18_english          20.20    23.700    26.0  \n",
       "act_18_math             20.70    23.150    25.2  \n",
       "act_18_reading          21.60    24.100    26.1  \n",
       "act_18_science          21.10    23.050    24.9  \n",
       "sat_18_participation     0.52     0.795     1.0  \n",
       "sat_18_erw             552.00   616.500   643.0  \n",
       "sat_18_math            547.00   600.500   655.0  \n",
       "sat_18_total          1099.00  1220.000  1298.0  \n",
       "act_17_participation     0.69     1.000     1.0  \n",
       "act_17_english          20.70    23.300    25.5  \n",
       "act_17_math             20.90    23.100    25.3  \n",
       "act_17_reading          21.80    24.150    26.0  \n",
       "act_17_science          21.30    23.200    24.9  \n",
       "act_17_composite        21.40    23.600    25.5  \n",
       "sat_17_participation     0.38     0.660     1.0  \n",
       "sat_17_erw             559.00   613.000   644.0  \n",
       "sat_17_math            548.00   599.000   651.0  \n",
       "sat_17_total          1106.00  1211.500  1295.0  "
      ]
     },
     "execution_count": 32,
     "metadata": {},
     "output_type": "execute_result"
    }
   ],
   "source": [
    "final.describe().transpose()"
   ]
  },
  {
   "cell_type": "markdown",
   "metadata": {
    "slideshow": {
     "slide_type": "slide"
    }
   },
   "source": [
    "Answers:<br>\n",
    "### 2018 ACT\n",
    "___\n",
    "#### act_18_participation: \n",
    "The distribution is negatively skewed as the median (0.66) is further right than the mean (0.61). Thus,  most states actually have full participation of their high school graduates as 75percentile is 1.0 (max).   <br>\n",
    "#### act_18_composite:  \n",
    "Test <br>\n",
    "#### act_18_english: \n",
    "test <br>\n",
    "#### act_18_math: \n",
    "test <br>\n",
    "#### act_18_reading:\n",
    "test <br>\n",
    "#### act_18_science:\n",
    "test <br>\n",
    "___\n",
    "### 2018 SAT\n",
    "___\n",
    "sat_18_participation:   <br>\n",
    "sat_18_erw:   <br>\n",
    "sat_18_math:   <br>\n",
    "sat_18_total:   <br>\n",
    "___\n",
    "### 2017 ACT\n",
    "act_17_participation:   <br>\n",
    "act_17_english:   <br>\n",
    "act_17_math:   <br>\n",
    "act_17_reading:   <br>\n",
    "act_17_science:   <br>\n",
    "act_17_composite:   <br>\n",
    "___\n",
    "### 2017 SAT\n",
    "sat_17_participation :   <br>\n",
    "sat_17_erw:   <br>\n",
    "sat_17_math:   <br>\n",
    "sat_17_total:   <br>"
   ]
  },
  {
   "cell_type": "markdown",
   "metadata": {
    "slideshow": {
     "slide_type": "slide"
    }
   },
   "source": [
    "#### We generally assuming that data we sample from a population will be normally distributed. Do we observe this trend?"
   ]
  },
  {
   "cell_type": "markdown",
   "metadata": {
    "slideshow": {
     "slide_type": "slide"
    }
   },
   "source": [
    "Answer: <br> Yes. Following the Central limit Theorem, each state's score is effectively the average of all student's score for the specific subject in their own state. Sampling all the means from 51 states, and thus n-size = 51, we get a sampling distribution of means of scores for USA. This sampling distribution of mean scores for all test will further approach a normal distribution if sampling size increases (number of countries included in the sampling distribution)."
   ]
  },
  {
   "cell_type": "markdown",
   "metadata": {
    "slideshow": {
     "slide_type": "slide"
    }
   },
   "source": [
    "Does This Assumption Hold for:\n",
    "    - Math\n",
    "    - Reading\n",
    "    - Rates\n",
    "Explain your answers for each distribution and how you think this will affect estimates made from these data."
   ]
  },
  {
   "cell_type": "markdown",
   "metadata": {
    "slideshow": {
     "slide_type": "slide"
    }
   },
   "source": [
    "Answer:<br>\n",
    "The assumption can hold for both Math and Reading, as the underlying background, we assume that a student's performance on  a test, be it Math and Reading, follows a normal distribution. Thus, the sampling of all individual means will also approach normal distribution. \n",
    "\n",
    "However, rates are unlikely normally distributed, as it is heavily depended on the state's policy for participating in SAT or ACT test in the specific year."
   ]
  },
  {
   "cell_type": "markdown",
   "metadata": {
    "slideshow": {
     "slide_type": "slide"
    }
   },
   "source": [
    "#### Estimate Limits of Data\n",
    "\n",
    "Suppose we only seek to understand the relationship between SAT and ACT participation rates in 2017. \n",
    "\n",
    "##### Does it make sense to conduct statistical inference given these data specifically? \n",
    "\n",
    "Why or why not?\n",
    "\n",
    "*(think about granularity, aggregation, the relationships between populations size & rates...consider the actually populations these data describe in answering this question)*"
   ]
  },
  {
   "cell_type": "markdown",
   "metadata": {
    "slideshow": {
     "slide_type": "slide"
    }
   },
   "source": [
    "Answer: <br>\n",
    "It makes sense when comparing participation rates for both test for a given state at a single point in time. For example, when SAT participation rate is high while ACT participation rates are low, we can deduce the relationship that SAT and ACT that of a negative correlation. Correlation however does not explain causation, as we do not know if either are a factor of the other.\n",
    "\n",
    "Thus only superficial inferences based on the tests participation rates of a single state can be made; ceteris paribus.\n",
    "\n",
    "However, when comparing between states, the rates no longer represent a realistic comparison, as population size differ greatly between each state. For example, a 100% participation rate from Texas will definitely be greater than a 100% from Rhode Island. Furthermore, state policies can heavily influence the participation rates, thus participation rates could be a fixed variable rather than a random variable."
   ]
  },
  {
   "cell_type": "markdown",
   "metadata": {
    "slideshow": {
     "slide_type": "slide"
    }
   },
   "source": [
    "##### Is it appropriate to compare *these* specific SAT and ACT math scores? \n",
    "\n",
    "Why or why not?"
   ]
  },
  {
   "cell_type": "markdown",
   "metadata": {
    "slideshow": {
     "slide_type": "slide"
    }
   },
   "source": [
    "Answer:\n",
    "The correlation between SAT and ACT math score is moderately strong (between 0.3 to 0.4). While this correlation may stem from the reason that both subjects are innately similar (Mathematics), the underlying topics covered may differ. Thus, both scores can be somewhat compared on a state's aggregate math score.\n",
    "\n",
    "On the other hand, the range of scores for both test is largely different, as SAT score ranges from 200 to 800 and ACT scores are in range of 1 to 36. Again, unless it is normalised, it is not possible to make any meaningful score-wise comparison."
   ]
  },
  {
   "cell_type": "markdown",
   "metadata": {
    "slideshow": {
     "slide_type": "skip"
    }
   },
   "source": [
    "#### Statistical Evaluation of Distributions \n",
    "\n",
    "**If you feel it's appropriate**, using methods we discussed in class, run hypothesis tests to compare variables of interest in our dataset. "
   ]
  },
  {
   "cell_type": "code",
   "execution_count": null,
   "metadata": {
    "slideshow": {
     "slide_type": "skip"
    }
   },
   "outputs": [],
   "source": [
    "# Code:"
   ]
  },
  {
   "cell_type": "markdown",
   "metadata": {
    "slideshow": {
     "slide_type": "slide"
    }
   },
   "source": [
    "## Outside Research"
   ]
  },
  {
   "cell_type": "markdown",
   "metadata": {
    "slideshow": {
     "slide_type": "slide"
    }
   },
   "source": [
    "Based upon your observations, choose **three** states that demonstrate interesting trends in their SAT and/or ACT participation rates. Spend some time doing outside research on state policies that might influence these rates, and summarize your findings below. **Feel free to go back and create new plots that highlight these states of interest**. If you bring in any outside tables or charts, make sure you are explicit about having borrowed them. If you quote any text, make sure that it renders as being quoted. (Make sure that you cite your sources -- check with you local instructor for citation preferences)."
   ]
  },
  {
   "cell_type": "markdown",
   "metadata": {
    "slideshow": {
     "slide_type": "slide"
    }
   },
   "source": [
    "For the state of Colorado, from 11th April 2017, it has been made compulsory for high school students to participate in SAT exams instead of ACT that was previously the state-mandated exam from 2001. This implementation of SAT suite of assessment as the state-mandated exam strongly aligns with Colorado's education standards (as referenced from https://collegereadiness.collegeboard.org/state-partnerships/colorado). A plus point on this decision reviews that there are free practice tools for the SAT assessment that can help bolster a student's performance, and thus relieving the burden of taxpayer's money. Thus, we see the jump of students taking the SAT fro 2016 (5500 students) to 2017 (56000). This point greatly benefits the State and also the students taking the exam, as cost of education can be alleviated with the help of free online tools and can therefore be spent on other areas which require more focus; for example Special learning programs for people with learning difficulties.\n",
    "\n",
    "The state of Illinois follows closely behind Colorado, as in both states previously, it was compulsory for highschool students to take ACT exams. The switch of from ACT to SAT in both states seems to be derived from the better standards and prediction of SAT scores. Although colleges accept both forms of assessments, we can see from collegenavigator, admissions to Ivy league colleges such as Harvard do spot higher admission rates when students submit their SAT scores (83%) than ACT scores (35%).\n",
    "\n",
    "Another state that is observed to be interesting might be Florida. Holding the highest percentage (97%) for SAT participation in a non-compulsory state, Florida also has the largest variation from math and evidence-based reading and writing (522 and 493 respectively)(as referenced from https://blog.prepscholar.com/average-sat-scores-by-state-most-recent). Although they are the lowest in terms of SAT total score for a non-compulsory state, the sheer number of high school students participating in the test may mask the variation between each students' performance. Thus, we see that participation rates may affect total average scores for each subject."
   ]
  },
  {
   "cell_type": "code",
   "execution_count": 95,
   "metadata": {},
   "outputs": [
    {
     "name": "stdout",
     "output_type": "stream",
     "text": [
      "--Lowest_--\n",
      "Hawaii\n",
      "Illinois\n",
      "--Highest--\n",
      "West Virginia\n",
      "\n",
      "\n",
      "\n",
      "--Lowest_--\n",
      "New Jersey\n",
      "New York\n",
      "--Highest--\n",
      "Florida\n"
     ]
    }
   ],
   "source": [
    "variation_18 = abs(final['sat_18_math'] - final['sat_18_erw'])\n",
    "variation_17 = abs(final['sat_17_math'] - final['sat_17_erw'])\n",
    "high_low(variation_17)\n",
    "print('\\n\\n')\n",
    "high_low(variation_18)"
   ]
  },
  {
   "cell_type": "markdown",
   "metadata": {
    "slideshow": {
     "slide_type": "slide"
    }
   },
   "source": [
    "## Conclusions and Recommendations"
   ]
  },
  {
   "cell_type": "markdown",
   "metadata": {
    "slideshow": {
     "slide_type": "slide"
    }
   },
   "source": [
    "Based on your exploration of the data, what are you key takeaways and recommendations? Choose one state with a lower participation rate and provide a suggestion for how the College Board might increase participation amongst graduating seniors in this state. Are there additional data you desire that would better inform your investigations?"
   ]
  },
  {
   "cell_type": "markdown",
   "metadata": {
    "slideshow": {
     "slide_type": "slide"
    }
   },
   "source": [
    "Combined with outside research, we can assume that one of many major factors in pursuing either one or both of the tests is affected by the level of educational funding and also the state policy to support the test which can provide a stronger prediction to higher education success. While allocation of scarce fiscal resource is the key aim of most states, we do find that if more help is available to alleviate the costs of education, such as free tools for students to practice, the state's policy will likely align with pursuing of said test.\n",
    "\n",
    "Furthermore, while outcomes of tests both measure a student's capabilities in various subjects and overall educational competency, it can been seen that there exist a bias amongst college institutes that prefer SAT. SAT test scores can be preferred during college admissions simply because of its better capability to predict higher educational outcomes such as success in college or attaining degree and thereafter, getting a job.\n",
    "\n",
    "Thus, it makes sense for states to choose an option which has the highest effort to yield ratio. Effort in terms of resources that is required to be allocated to provide education to high school students so that they can improve themselves, while yield means the probability of attaining higher educational outcomes. In this case, SAT seems to be the likely more reasonable option for College Board to pursue.\n",
    "\n",
    "For suggestions to increase participation rates, each state might find the easiest answer to increasing rates would be to mandate the participation rate as compulsory. As seen from the examples of Colorado and Illnois, whose previous SAT participation rates are extremely low. Such a method is the easiest way to increase participation rates. The same could be applied to many states, including North Dakota, which has a 2% participation rate for SAT in 2018.\n",
    "\n",
    "Another method would be to increase the attractiveness of SATs as college entrance criteria. As mention too, generally both test are accepted in all colleges as admission critera, however we do see from the scatterplot between SAT's reading and ACT's english, between both SAT's and ACT's math, that there are underlying fundamentals in the subjects which are different in both test. Although the subjects are similar, they test a student based on different underlying principles in each subject. Thus, to increase participation rates, we could make either test more predictive of entering technical colleges by allowing the test to be attuned towards certain subjects' fundamentals. For example, in Mathematics, more emphasis could be placed on trigonometry and higher calculus than on differential mathematics.\n",
    "\n",
    "Additional data that can better inform these investigations would be on the outcomes after taking each test. Outcome variables such as obtaining jobs, or attaining degrees or doctorates can help to better formulate a model that can help predict which test would fare better."
   ]
  },
  {
   "cell_type": "code",
   "execution_count": 103,
   "metadata": {},
   "outputs": [
    {
     "data": {
      "text/html": [
       "<div>\n",
       "<style scoped>\n",
       "    .dataframe tbody tr th:only-of-type {\n",
       "        vertical-align: middle;\n",
       "    }\n",
       "\n",
       "    .dataframe tbody tr th {\n",
       "        vertical-align: top;\n",
       "    }\n",
       "\n",
       "    .dataframe thead th {\n",
       "        text-align: right;\n",
       "    }\n",
       "</style>\n",
       "<table border=\"1\" class=\"dataframe\">\n",
       "  <thead>\n",
       "    <tr style=\"text-align: right;\">\n",
       "      <th></th>\n",
       "      <th>State</th>\n",
       "      <th>act_18_participation</th>\n",
       "      <th>act_18_composite</th>\n",
       "      <th>act_18_english</th>\n",
       "      <th>act_18_math</th>\n",
       "      <th>act_18_reading</th>\n",
       "      <th>act_18_science</th>\n",
       "      <th>sat_18_participation</th>\n",
       "      <th>sat_18_erw</th>\n",
       "      <th>sat_18_math</th>\n",
       "      <th>...</th>\n",
       "      <th>act_17_participation</th>\n",
       "      <th>act_17_english</th>\n",
       "      <th>act_17_math</th>\n",
       "      <th>act_17_reading</th>\n",
       "      <th>act_17_science</th>\n",
       "      <th>act_17_composite</th>\n",
       "      <th>sat_17_participation</th>\n",
       "      <th>sat_17_erw</th>\n",
       "      <th>sat_17_math</th>\n",
       "      <th>sat_17_total</th>\n",
       "    </tr>\n",
       "  </thead>\n",
       "  <tbody>\n",
       "    <tr>\n",
       "      <th>34</th>\n",
       "      <td>North Dakota</td>\n",
       "      <td>0.98</td>\n",
       "      <td>20.3</td>\n",
       "      <td>19.1</td>\n",
       "      <td>20.3</td>\n",
       "      <td>20.7</td>\n",
       "      <td>20.5</td>\n",
       "      <td>0.02</td>\n",
       "      <td>640</td>\n",
       "      <td>643</td>\n",
       "      <td>...</td>\n",
       "      <td>0.98</td>\n",
       "      <td>19.0</td>\n",
       "      <td>20.4</td>\n",
       "      <td>20.5</td>\n",
       "      <td>20.6</td>\n",
       "      <td>20.3</td>\n",
       "      <td>0.02</td>\n",
       "      <td>635</td>\n",
       "      <td>621</td>\n",
       "      <td>1256</td>\n",
       "    </tr>\n",
       "  </tbody>\n",
       "</table>\n",
       "<p>1 rows × 21 columns</p>\n",
       "</div>"
      ],
      "text/plain": [
       "           State  act_18_participation  act_18_composite  act_18_english  \\\n",
       "34  North Dakota                  0.98              20.3            19.1   \n",
       "\n",
       "    act_18_math  act_18_reading  act_18_science  sat_18_participation  \\\n",
       "34         20.3            20.7            20.5                  0.02   \n",
       "\n",
       "    sat_18_erw  sat_18_math  ...  act_17_participation  act_17_english  \\\n",
       "34         640          643  ...                  0.98            19.0   \n",
       "\n",
       "    act_17_math  act_17_reading  act_17_science  act_17_composite  \\\n",
       "34         20.4            20.5            20.6              20.3   \n",
       "\n",
       "    sat_17_participation  sat_17_erw  sat_17_math  sat_17_total  \n",
       "34                  0.02         635          621          1256  \n",
       "\n",
       "[1 rows x 21 columns]"
      ]
     },
     "execution_count": 103,
     "metadata": {},
     "output_type": "execute_result"
    }
   ],
   "source": [
    "find_lowest(final.sat_18_participation)"
   ]
  },
  {
   "cell_type": "code",
   "execution_count": null,
   "metadata": {},
   "outputs": [],
   "source": []
  }
 ],
 "metadata": {
  "anaconda-cloud": {},
  "celltoolbar": "Slideshow",
  "kernelspec": {
   "display_name": "Python 3",
   "language": "python",
   "name": "python3"
  },
  "language_info": {
   "codemirror_mode": {
    "name": "ipython",
    "version": 3
   },
   "file_extension": ".py",
   "mimetype": "text/x-python",
   "name": "python",
   "nbconvert_exporter": "python",
   "pygments_lexer": "ipython3",
   "version": "3.6.8"
  }
 },
 "nbformat": 4,
 "nbformat_minor": 2
}
